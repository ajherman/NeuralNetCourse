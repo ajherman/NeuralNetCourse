{
 "cells": [
  {
   "cell_type": "code",
   "execution_count": 110,
   "metadata": {},
   "outputs": [],
   "source": [
    "import ipywidgets as widgets\n",
    "from IPython.display import display\n",
    "from __future__ import print_function\n",
    "from ipywidgets import interact, interactive, fixed, interact_manual\n",
    "import matplotlib.pyplot as plt\n",
    "import numpy as np\n",
    "import networkx as nx\n",
    "%matplotlib inline"
   ]
  },
  {
   "cell_type": "code",
   "execution_count": 111,
   "metadata": {},
   "outputs": [],
   "source": [
    "def networkNodePositions(layer_sizes):\n",
    "    n_layers = len(layer_sizes)\n",
    "    node_pos = []\n",
    "    for j in range(n_layers):\n",
    "        layer_size = layer_sizes[j]\n",
    "        node_pos += [((i+1)/(layer_size+1),j) for i in range(layer_size)]\n",
    "    return node_pos,len(node_pos)\n",
    "\n",
    "def fullyConnectedEdges(layer_sizes):\n",
    "    n_layers = len(layer_sizes)\n",
    "    sep_idx = [0]+list(np.cumsum(layer_sizes))\n",
    "    edges = []\n",
    "    for i in range(n_layers-1):\n",
    "        idx1,idx2,idx3 = sep_idx[i:i+3]\n",
    "        edges += [(j,k) for j in range(idx1,idx2) for k in range(idx2,idx3)]\n",
    "    return edges\n",
    "\n",
    "def drawNetWithHiddenLayer(m):\n",
    "    layers = [3,m,1]\n",
    "    node_positions,n_nodes=networkNodePositions(layers)\n",
    "    nodes = [node for node in range(n_nodes)]\n",
    "    edges = fullyConnectedEdges(layers)\n",
    "    G = nx.Graph()\n",
    "    G.add_nodes_from(nodes)\n",
    "    G.add_edges_from(edges)\n",
    "    nx.draw_networkx_nodes(G, node_positions, node_size=30, nodelist=[i for i in range(n_nodes)],node_color=\"blue\")\n",
    "    nx.draw_networkx_edges(G, node_positions, edges, alpha=1.0, width=1)\n",
    "    plt.figure(1)\n",
    "    plt.axis('off')\n",
    "    plt.show()\n",
    "    \n",
    "\n"
   ]
  },
  {
   "cell_type": "code",
   "execution_count": 112,
   "metadata": {},
   "outputs": [
    {
     "data": {
      "application/vnd.jupyter.widget-view+json": {
       "model_id": "0d539673f6404172b87db5b18aed1853",
       "version_major": 2,
       "version_minor": 0
      },
      "text/plain": [
       "interactive(children=(IntSlider(value=4, continuous_update=False, description='Hidden layer size', max=20, min…"
      ]
     },
     "metadata": {},
     "output_type": "display_data"
    }
   ],
   "source": [
    "# Classifier with one hidden layer of variable size\n",
    "\n",
    "hiddenLayerSizeSlider = widgets.IntSlider(\n",
    "    value=4,\n",
    "    min=1,\n",
    "    max=20,\n",
    "    step=1,\n",
    "    description='Hidden layer size',\n",
    "    disabled=False,\n",
    "    continuous_update=False,\n",
    "    orientation='horizontal',\n",
    "    readout=True,\n",
    "    readout_format='d')\n",
    "\n",
    "interactive_network = interactive(drawNetWithHiddenLayer, m=hiddenLayerSizeSlider)\n",
    "output = interactive_network.children[-1]\n",
    "output.layout.height = '400px'\n",
    "display(interactive_network)"
   ]
  },
  {
   "cell_type": "code",
   "execution_count": 140,
   "metadata": {},
   "outputs": [
    {
     "data": {
      "application/vnd.jupyter.widget-view+json": {
       "model_id": "46d6b10ce67f49138c3f19d0528f666e",
       "version_major": 2,
       "version_minor": 0
      },
      "text/plain": [
       "interactive(children=(FloatSlider(value=1.0, continuous_update=False, description='w1', max=5.0, min=-5.0, rea…"
      ]
     },
     "metadata": {},
     "output_type": "display_data"
    }
   ],
   "source": [
    "def line(w1,w2, b):\n",
    "    plt.figure(2)\n",
    "    t = np.linspace(-250, 250, num=1000)\n",
    "    try:\n",
    "        x = (w2*t-w1*b)/(w1**2+w2**2)\n",
    "        y = -(w1*t+w2*b)/(w1**2+w2**2)\n",
    "        plt.plot(x,y)\n",
    "        plt.xlim(-25,25)\n",
    "        plt.ylim(-25, 25)\n",
    "        plt.show()\n",
    "    except:\n",
    "        print(\"Both weights cannot be zero\")\n",
    "        \n",
    "w1Slider=widgets.FloatSlider(\n",
    "    value=1,\n",
    "    min=-5,\n",
    "    max=5,\n",
    "    step=0.1,\n",
    "    description='w1',\n",
    "    disabled=False,\n",
    "    continuous_update=False,\n",
    "    orientation='horizontal',\n",
    "    readout=True,\n",
    "    readout_format='.1f')\n",
    "\n",
    "w2Slider=widgets.FloatSlider(\n",
    "    value=1,\n",
    "    min=-5,\n",
    "    max=5,\n",
    "    step=0.1,\n",
    "    description='w2',\n",
    "    disabled=False,\n",
    "    continuous_update=False,\n",
    "    orientation='horizontal',\n",
    "    readout=True,\n",
    "    readout_format='.1f')\n",
    "\n",
    "bSlider=widgets.FloatSlider(\n",
    "    value=1,\n",
    "    min=-20,\n",
    "    max=20,\n",
    "    step=0.1,\n",
    "    description='b',\n",
    "    disabled=False,\n",
    "    continuous_update=False,\n",
    "    orientation='horizontal',\n",
    "    readout=True,\n",
    "    readout_format='.1f')\n",
    "\n",
    "interactive_plot = interactive(line, w1=w1Slider,w2=w2Slider, b=bSlider)\n",
    "output = interactive_plot.children[-1]\n",
    "output.layout.height = '350px'\n",
    "interactive_plot"
   ]
  },
  {
   "cell_type": "code",
   "execution_count": null,
   "metadata": {},
   "outputs": [],
   "source": []
  },
  {
   "cell_type": "code",
   "execution_count": null,
   "metadata": {},
   "outputs": [],
   "source": []
  }
 ],
 "metadata": {
  "kernelspec": {
   "display_name": "Python 3",
   "language": "python",
   "name": "python3"
  },
  "language_info": {
   "codemirror_mode": {
    "name": "ipython",
    "version": 3
   },
   "file_extension": ".py",
   "mimetype": "text/x-python",
   "name": "python",
   "nbconvert_exporter": "python",
   "pygments_lexer": "ipython3",
   "version": "3.6.5"
  }
 },
 "nbformat": 4,
 "nbformat_minor": 2
}
