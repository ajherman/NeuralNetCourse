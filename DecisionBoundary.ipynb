{
 "cells": [
  {
   "cell_type": "code",
   "execution_count": 1,
   "metadata": {},
   "outputs": [],
   "source": [
    "import ipywidgets as widgets\n",
    "from IPython.display import display\n",
    "from __future__ import print_function\n",
    "from ipywidgets import interact, interactive, fixed, interact_manual, HBox, VBox\n",
    "import matplotlib.pyplot as plt\n",
    "from mpl_toolkits.mplot3d import Axes3D\n",
    "import numpy as np\n",
    "import networkx as nx\n",
    "#import  plotly.plotly as py\n",
    "import plotly.offline as py\n",
    "import plotly.graph_objs as go\n",
    "from scipy.linalg import null_space, pinv\n",
    "%matplotlib inline"
   ]
  },
  {
   "cell_type": "code",
   "execution_count": 2,
   "metadata": {},
   "outputs": [],
   "source": [
    "def networkNodePositions(layer_sizes):\n",
    "    n_layers = len(layer_sizes)\n",
    "    node_pos = []\n",
    "    for j in range(n_layers):\n",
    "        layer_size = layer_sizes[j]\n",
    "        node_pos += [((i+1)/(layer_size+1),j) for i in range(layer_size)]\n",
    "    return node_pos,len(node_pos)\n",
    "\n",
    "def fullyConnectedEdges(layer_sizes):\n",
    "    n_layers = len(layer_sizes)\n",
    "    sep_idx = [0]+list(np.cumsum(layer_sizes))\n",
    "    edges = []\n",
    "    for i in range(n_layers-1):\n",
    "        idx1,idx2,idx3 = sep_idx[i:i+3]\n",
    "        edges += [(j,k) for j in range(idx1,idx2) for k in range(idx2,idx3)]\n",
    "    return edges\n",
    "\n",
    "def drawNet(layers):\n",
    "    node_positions,n_nodes=networkNodePositions(layers)\n",
    "    nodes = [node for node in range(n_nodes)]\n",
    "    edges = fullyConnectedEdges(layers)\n",
    "    G = nx.Graph()\n",
    "    G.add_nodes_from(nodes)\n",
    "    G.add_edges_from(edges)\n",
    "    nx.draw_networkx_nodes(G, node_positions, node_size=30, nodelist=[i for i in range(n_nodes)],node_color=\"blue\")\n",
    "    nx.draw_networkx_edges(G, node_positions, edges, alpha=1.0, width=0.5)\n",
    "    plt.figure(1)\n",
    "    plt.axis('off')\n",
    "    plt.show()\n",
    "    \n",
    "def drawClassifierWithNoHiddenLayer(input_size,hidden_size):\n",
    "    drawNet([input_size,hidden_size,1])\n",
    "\n",
    "def drawClassifierWithOneHiddenLayer(input_size,hidden_size):\n",
    "    drawNet([input_size,hidden_size,1])\n",
    "\n",
    "def drawClassifierWithTwoHiddenLayers(input_size,hidden1_size,hidden2_size):\n",
    "    drawNet([input_size,hidden1_size,hidden2_size,1])\n",
    "    \n",
    "def floatSlider(value,mini,maxi,step,name,continuous=False):\n",
    "    return widgets.FloatSlider(value=value,min=mini,max=maxi,step=step,description=name,continuous_update=continuous)\n",
    "   \n",
    "def intSlider(value,mini,maxi,name,continuous=False):\n",
    "    return widgets.IntSlider(value=value,min=mini,max=maxi,step=1,description=name,continuous_update=continuous)\n",
    " \n"
   ]
  },
  {
   "cell_type": "code",
   "execution_count": 3,
   "metadata": {},
   "outputs": [
    {
     "data": {
      "application/vnd.jupyter.widget-view+json": {
       "model_id": "9b9e3cdb331c4de383b596cc15740267",
       "version_major": 2,
       "version_minor": 0
      },
      "text/plain": [
       "interactive(children=(Dropdown(description='input_size', options=(2, 3), value=2), IntSlider(value=4, continuo…"
      ]
     },
     "metadata": {},
     "output_type": "display_data"
    }
   ],
   "source": [
    "# Classifier with one hidden layer of variable size\n",
    "\n",
    "hiddenLayerSizeSlider = intSlider(4,1,20,\"Hidden layer size\")\n",
    "\n",
    "interactive_network = interactive(drawClassifierWithOneHiddenLayer,input_size=[2,3], hidden_size=hiddenLayerSizeSlider)\n",
    "output = interactive_network.children[-1]\n",
    "output.layout.height = '400px'\n",
    "display(interactive_network)"
   ]
  },
  {
   "cell_type": "code",
   "execution_count": 4,
   "metadata": {},
   "outputs": [
    {
     "data": {
      "application/vnd.jupyter.widget-view+json": {
       "model_id": "1dfd04a604dd45448bb294ce6b9cefa4",
       "version_major": 2,
       "version_minor": 0
      },
      "text/plain": [
       "interactive(children=(Dropdown(description='input_size', options=(2, 3), value=2), IntSlider(value=4, continuo…"
      ]
     },
     "metadata": {},
     "output_type": "display_data"
    }
   ],
   "source": [
    "# Classifier with one hidden layer of variable size\n",
    "\n",
    "hiddenLayer1SizeSlider = intSlider(4,1,20,\"Hidden layer 1 size\")\n",
    "hiddenLayer2SizeSlider = intSlider(4,1,20,\"Hidden layer 2 size\")\n",
    "\n",
    "interactive_network = interactive(drawClassifierWithTwoHiddenLayers,input_size=[2,3],hidden1_size=hiddenLayer1SizeSlider,hidden2_size=hiddenLayer2SizeSlider)\n",
    "output = interactive_network.children[-1]\n",
    "output.layout.height = '400px'\n",
    "display(interactive_network)"
   ]
  },
  {
   "cell_type": "code",
   "execution_count": 5,
   "metadata": {},
   "outputs": [
    {
     "data": {
      "application/vnd.jupyter.widget-view+json": {
       "model_id": "291af6d7464940cb8c0143038f0afa6a",
       "version_major": 2,
       "version_minor": 0
      },
      "text/plain": [
       "interactive(children=(FloatSlider(value=1.0, continuous_update=False, description='w1', max=5.0, min=-5.0), Fl…"
      ]
     },
     "metadata": {},
     "output_type": "display_data"
    }
   ],
   "source": [
    "# Line\n",
    "\n",
    "def line(w1,w2, b):\n",
    "    if w1 != 0.0 or w2 != 0:\n",
    "        plt.figure(2)\n",
    "        t = np.linspace(-250, 250, num=100)\n",
    "        x = w2*t-(w1*b)/(w1**2+w2**2)\n",
    "        y = -w1*t-(w2*b)/(w1**2+w2**2)\n",
    "        #x = (w2*t-w1*b)/(w1**2+w2**2)\n",
    "        #y = -(w1*t+w2*b)/(w1**2+w2**2)\n",
    "        plt.plot(x,y)\n",
    "        plt.xlim(-25,25)\n",
    "        plt.ylim(-25, 25)\n",
    "        plt.show()\n",
    "    else:\n",
    "        print(\"Weights cannot both be zero!!!\")\n",
    "\n",
    "w1Slider=floatSlider(1,-5,5,0.1,'w1')\n",
    "w2Slider=floatSlider(1,-5,5,0.1,'w2')\n",
    "bSlider=floatSlider(0,-20,20,0.1,'b')\n",
    "\n",
    "interactive_plot = interactive(line, w1=w1Slider,w2=w2Slider, b=bSlider)\n",
    "output = interactive_plot.children[-1]\n",
    "output.layout.height = '350px'\n",
    "interactive_plot"
   ]
  },
  {
   "cell_type": "code",
   "execution_count": 6,
   "metadata": {},
   "outputs": [
    {
     "data": {
      "application/vnd.jupyter.widget-view+json": {
       "model_id": "bd81d3ef866b4380bbf6a54fd13ff700",
       "version_major": 2,
       "version_minor": 0
      },
      "text/plain": [
       "HBox(children=(FigureWidget({\n",
       "    'data': [{'cauto': False,\n",
       "              'cmax': 5,\n",
       "              'cmin': -5,…"
      ]
     },
     "metadata": {},
     "output_type": "display_data"
    }
   ],
   "source": [
    "# Plane\n",
    "\n",
    "# Init plane\n",
    "s = np.linspace(-100,100,50)\n",
    "t = np.linspace(-100,100,50)\n",
    "tGrid, sGrid = np.meshgrid(s, t)\n",
    "x = -sGrid\n",
    "y = -tGrid  \n",
    "z = sGrid   \n",
    "\n",
    "# Init scatter\n",
    "n_points = 20\n",
    "scatter_x = 10*np.random.rand(n_points)-5\n",
    "scatter_y = 10*np.random.rand(n_points)-5\n",
    "scatter_z = 10*np.random.rand(n_points)-5\n",
    "\n",
    "# Init plot\n",
    "surface = go.Surface(x=x, y=y, z=z,showscale=False,colorscale=\"Viridis\",cauto=False,cmin=-5,cmax=5,opacity=0.5)\n",
    "scatter = go.Scatter3d(x=scatter_x,y=scatter_y,z=scatter_z,mode='markers',\n",
    "    marker=dict(size=2,color=scatter_z+scatter_y+scatter_z,colorscale='RdBu',cauto=False,cmin=-5,cmax=5,opacity=1.0))\n",
    "data = [surface,scatter]\n",
    "layout = go.Layout(\n",
    "    hovermode=False,\n",
    "    autosize=False,\n",
    "    width=600,\n",
    "    height=600,\n",
    "    title='Parametric Plot',\n",
    "    scene=dict(\n",
    "        aspectmode = \"manual\",\n",
    "        aspectratio = dict(x = 1, y = 1, z = 1),\n",
    "        xaxis=dict(nticks=50,range=[-5,5],zerolinecolor='rgb(255,255,255)',showticklabels=False,showspikes=False),\n",
    "        yaxis=dict(nticks=50,range=[-5,5],zerolinecolor='rgb(255,255,255)',showticklabels= False,showspikes=False),\n",
    "        zaxis=dict(nticks=50,range=[-5,5],zerolinecolor='rgb(255,255,255)',showticklabels=False,showspikes=False)))\n",
    "f = go.FigureWidget(data=data, layout=layout)\n",
    "\n",
    "# Update function for slider\n",
    "def update(w1,w2,w3,b):\n",
    "    w_sq_len = w1**2+w2**2+w3**2\n",
    "    f.data[0].x = -w3*sGrid-w1*b/w_sq_len \n",
    "    f.data[0].y = -w3*tGrid-w2*b/w_sq_len  \n",
    "    f.data[0].z = w1*sGrid+w2*tGrid-w3*b/w_sq_len               \n",
    "    \n",
    "# Sliders\n",
    "w1=floatSlider(1,-5,5,0.1,'w1')\n",
    "w2=floatSlider(1,-5,5,0.1,'w2')\n",
    "w3=floatSlider(1,-5,5,0.1,'w3')\n",
    "b=floatSlider(0,-10,10,0.2,'b')\n",
    "\n",
    "# Display\n",
    "freq_slider = interactive(update, w1=w1,w2=w2,w3=w3,b=b)\n",
    "vb = HBox((f, freq_slider))\n",
    "vb.layout.align_items = 'center'\n",
    "vb"
   ]
  },
  {
   "cell_type": "code",
   "execution_count": 12,
   "metadata": {},
   "outputs": [
    {
     "data": {
      "application/vnd.jupyter.widget-view+json": {
       "model_id": "341ff8a1279f47b180539c13d0aec9e3",
       "version_major": 2,
       "version_minor": 0
      },
      "text/plain": [
       "interactive(children=(FloatSlider(value=0.0, continuous_update=False, description='w00', max=1.0, min=-1.0), F…"
      ]
     },
     "metadata": {},
     "output_type": "display_data"
    },
    {
     "data": {
      "text/plain": [
       "<Figure size 432x288 with 0 Axes>"
      ]
     },
     "metadata": {},
     "output_type": "display_data"
    }
   ],
   "source": [
    "# 2D curve\n",
    "\n",
    "def surf(w00,w01,w10,w11,b0,b1,v0,v1):\n",
    "    plt.figure(10)\n",
    "    V = np.array([[v0],[v1]]) # Second weight matrix\n",
    "    orth = null_space(V.T).T # Basis for ortho compliment of V with rows as basis elements\n",
    "    lin = np.linspace(-5,5,2000)\n",
    "    #coefs=np.stack(np.meshgrid(lin,lin),axis=-1).reshape(-1,2)\n",
    "    coefs = lin.reshape(-1,1)\n",
    "    pts = np.dot(coefs,orth) # Set of points in ortho compliment of V\n",
    "    idx = np.where(np.prod(np.logical_and(-1<pts,pts<1),axis=1))[0] # Indices of points that have values in [-1,1]\n",
    "    pts=pts[idx] # Points in ortho compliment of V with values in [-1,1]\n",
    "    b = np.array([[b0,b1]]) # Bias\n",
    "    y=np.arctanh(pts)-b # # Points that W needs to map into\n",
    "    W = np.array([[w00,w01],[w10,w11]]) # First weight matrix\n",
    "    \n",
    "    # For square W\n",
    "    Winv = pinv(W)\n",
    "    x = np.dot(y,Winv)\n",
    "    plt.scatter(x[:,0],x[:,1],s=0.5)\n",
    "    plt.show()\n",
    "\n",
    "# Sliders\n",
    "w00=floatSlider(0.0,-1,1,0.1,'w00')\n",
    "w01=floatSlider(0.0,-1,1,0.1,'w00')\n",
    "w10=floatSlider(0.0,-1,1,0.1,'w00')\n",
    "w11=floatSlider(0.0,-1,1,0.1,'w00')\n",
    "b0=floatSlider(0.0,-1,1,0.1,'b0')\n",
    "b1=floatSlider(0.0,-1,1,0.1,'b1')\n",
    "v0=floatSlider(0.0,-1,1,0.1,'v0')\n",
    "v1=floatSlider(0.0,-1,1,0.1,'v1')\n",
    "\n",
    "# Display\n",
    "slidey = interactive(surf, w00=w00,w01=w01,w10=w10,w11=w11,b0=b0,b1=b1,v0=v0,v1=v1)\n",
    "slidey"
   ]
  },
  {
   "cell_type": "code",
   "execution_count": 8,
   "metadata": {},
   "outputs": [
    {
     "data": {
      "application/vnd.jupyter.widget-view+json": {
       "model_id": "2abef107da304ff49fab8475f7b0109b",
       "version_major": 2,
       "version_minor": 0
      },
      "text/plain": [
       "interactive(children=(FloatSlider(value=0.1, continuous_update=False, description='w00', max=1.0, min=-1.0), F…"
      ]
     },
     "metadata": {},
     "output_type": "display_data"
    }
   ],
   "source": [
    "# Decision boundary v1. using matplotlib scatterplot\n",
    "\n",
    "def surf(w00,w01,w10,w11,b0,b1,v0,v1):\n",
    "    plt.figure(8)\n",
    "    V = np.array([[v0],[v1]]) # Second weight matrix\n",
    "    b = np.array([[b0,b1]]) # Bias\n",
    "    W = np.array([[w00,w01],[w10,w11]]) # First weight matrix\n",
    "    lin = np.linspace(-5,5,400)\n",
    "    x = np.stack(np.meshgrid(lin,lin),axis=-1).reshape(-1,2) # Inputs\n",
    "    y = np.tanh(np.dot(x,W)+b)\n",
    "    z = np.dot(y,V).reshape(-1)\n",
    "    idx1 = np.where(z>0)[0]\n",
    "    idx2 = np.where(z<0)[0]\n",
    "    x1,x2 = x[idx1],x[idx2]\n",
    "    plt.scatter(x1[:,0],x1[:,1],s=0.5,color=\"red\")\n",
    "    plt.scatter(x2[:,0],x2[:,1],s=0.5,color=\"blue\")    \n",
    "    plt.scatter([-2,-2,2,2],[-2,2,-2,2],s=20,color=\"black\",marker=\"+\")\n",
    "    plt.show()\n",
    "\n",
    "# Sliders\n",
    "w00=floatSlider(0.1,-1,1,0.1,'w00')\n",
    "w01=floatSlider(0.2,-1,1,0.1,'w01')\n",
    "w10=floatSlider(-0.1,-1,1,0.1,'w10')\n",
    "w11=floatSlider(-0.2,-1,1,0.1,'w11')\n",
    "b0=floatSlider(0.3,-1,1,0.1,'b0')\n",
    "b1=floatSlider(-0.3,-1,1,0.1,'b1')\n",
    "v0=floatSlider(-0.1,-1,1,0.1,'v0')\n",
    "v1=floatSlider(0.1,-1,1,0.1,'v1')\n",
    "\n",
    "# Display\n",
    "slidey = interactive(surf, w00=w00,w01=w01,w10=w10,w11=w11,b0=b0,b1=b1,v0=v0,v1=v1)\n",
    "slidey"
   ]
  },
  {
   "cell_type": "code",
   "execution_count": 14,
   "metadata": {},
   "outputs": [
    {
     "data": {
      "application/vnd.jupyter.widget-view+json": {
       "model_id": "88062f87ad314a21b668837d4be5054b",
       "version_major": 2,
       "version_minor": 0
      },
      "text/plain": [
       "HBox(children=(FigureWidget({\n",
       "    'data': [{'colorscale': 'Viridis',\n",
       "              'showscale': False,\n",
       "       …"
      ]
     },
     "metadata": {},
     "output_type": "display_data"
    }
   ],
   "source": [
    "# Decision boundary v.2 using plotly heatmap\n",
    "\n",
    "N = 400\n",
    "lin = np.linspace(-5,5,N)\n",
    "grid = np.stack(np.meshgrid(lin,lin),axis=-1).reshape(-1,2) # Inputs\n",
    "scatter_x,scatter_y = grid[:,0],grid[:,1]\n",
    "scatter_color = np.random.random(np.shape(scatter_x))-0.5\n",
    "heatmap = go.Heatmap(z=np.random.random((N,N)),showscale=False,colorscale=\"Viridis\")\n",
    "data = [heatmap]\n",
    "layout = go.Layout(\n",
    "    autosize=False,\n",
    "    width=400,\n",
    "    height=400,\n",
    "    title='Parametric Plot',\n",
    "    scene=dict(\n",
    "        aspectmode = \"manual\",\n",
    "        aspectratio = dict(x = 1, y = 1),\n",
    "        xaxis=dict(nticks=50,range=[-5,5],showticklabels=False,showspikes=False),\n",
    "        yaxis=dict(nticks=50,range=[-5,5],showticklabels= False,showspikes=False)))\n",
    "ff = go.FigureWidget(data=data,layout=layout)\n",
    "\n",
    "def update(w00,w01,w10,w11,b0,b1,v0,v1):\n",
    "    V = np.array([[v0],[v1]]) # Second weight matrix\n",
    "    b = np.array([[b0,b1]]) # Bias\n",
    "    W = np.array([[w00,w01],[w10,w11]]) # First weight matrix\n",
    "    lin = np.linspace(-5,5,N)\n",
    "    x = np.stack(np.meshgrid(lin,lin),axis=-1).reshape(-1,2) # Inputs\n",
    "    y = np.tanh(np.dot(x,W)+b)\n",
    "    z = np.dot(y,V).reshape(-1)\n",
    "    c = 1*(z<0).reshape(N,N)\n",
    "    ff.data[0].z = c\n",
    "\n",
    "\n",
    "\n",
    "# Sliders\n",
    "w00=floatSlider(0.1,-1,1,0.1,'w00')\n",
    "w01=floatSlider(0.2,-1,1,0.1,'w01')\n",
    "w10=floatSlider(-0.1,-1,1,0.1,'w10')\n",
    "w11=floatSlider(-0.2,-1,1,0.1,'w11')\n",
    "b0=floatSlider(0.3,-1,1,0.1,'b0')\n",
    "b1=floatSlider(-0.3,-1,1,0.1,'b1')\n",
    "v0=floatSlider(-0.1,-1,1,0.1,'v0')\n",
    "v1=floatSlider(0.1,-1,1,0.1,'v1')\n",
    "\n",
    "# Display\n",
    "slidey = interactive(update,w00=w00,w01=w01,w10=w10,w11=w11,b0=b0,b1=b1,v0=v0,v1=v1)\n",
    "vc = HBox((ff, slidey))\n",
    "vc.layout.align_items = 'center'\n",
    "vc\n"
   ]
  },
  {
   "cell_type": "code",
   "execution_count": null,
   "metadata": {},
   "outputs": [],
   "source": []
  }
 ],
 "metadata": {
  "kernelspec": {
   "display_name": "Python 3",
   "language": "python",
   "name": "python3"
  },
  "language_info": {
   "codemirror_mode": {
    "name": "ipython",
    "version": 3
   },
   "file_extension": ".py",
   "mimetype": "text/x-python",
   "name": "python",
   "nbconvert_exporter": "python",
   "pygments_lexer": "ipython3",
   "version": "3.6.5"
  }
 },
 "nbformat": 4,
 "nbformat_minor": 2
}
