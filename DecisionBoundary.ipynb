{
 "cells": [
  {
   "cell_type": "code",
   "execution_count": 1,
   "metadata": {},
   "outputs": [],
   "source": [
    "import ipywidgets as widgets\n",
    "from IPython.display import display\n",
    "from __future__ import print_function\n",
    "from ipywidgets import interact, interactive, fixed, interact_manual, HBox, VBox, Button, Layout,BoundedFloatText, Box, Label\n",
    "import matplotlib.pyplot as plt\n",
    "from mpl_toolkits.mplot3d import Axes3D\n",
    "import numpy as np\n",
    "import networkx as nx\n",
    "#import  plotly.plotly as py\n",
    "import plotly.offline as py\n",
    "from plotly.offline import iplot, init_notebook_mode\n",
    "import plotly.graph_objs as go\n",
    "from scipy.linalg import null_space, pinv\n",
    "%matplotlib inline"
   ]
  },
  {
   "cell_type": "code",
   "execution_count": 2,
   "metadata": {},
   "outputs": [],
   "source": [
    "def networkNodePositions(layer_sizes):\n",
    "    n_layers = len(layer_sizes)\n",
    "    node_pos = []\n",
    "    for j in range(n_layers):\n",
    "        layer_size = layer_sizes[j]\n",
    "        node_pos += [((i+1)/(layer_size+1),j) for i in range(layer_size)]\n",
    "    return node_pos,len(node_pos)\n",
    "\n",
    "def fullyConnectedEdges(layer_sizes):\n",
    "    n_layers = len(layer_sizes)\n",
    "    sep_idx = [0]+list(np.cumsum(layer_sizes))\n",
    "    edges = []\n",
    "    for i in range(n_layers-1):\n",
    "        idx1,idx2,idx3 = sep_idx[i:i+3]\n",
    "        edges += [(j,k) for j in range(idx1,idx2) for k in range(idx2,idx3)]\n",
    "    return edges\n",
    "\n",
    "def drawNet(layers):\n",
    "    node_positions,n_nodes=networkNodePositions(layers)\n",
    "    nodes = [node for node in range(n_nodes)]\n",
    "    edges = fullyConnectedEdges(layers)\n",
    "    G = nx.Graph()\n",
    "    G.add_nodes_from(nodes)\n",
    "    G.add_edges_from(edges)\n",
    "    nx.draw_networkx_nodes(G, node_positions, node_size=30, nodelist=[i for i in range(n_nodes)],node_color=\"blue\")\n",
    "    nx.draw_networkx_edges(G, node_positions, edges, alpha=1.0, width=0.5)\n",
    "    plt.figure(1)\n",
    "    plt.axis('off')\n",
    "    plt.show()\n",
    "    \n",
    "def drawClassifierWithNoHiddenLayer(input_size,hidden_size):\n",
    "    drawNet([input_size,hidden_size,1])\n",
    "\n",
    "def drawClassifierWithOneHiddenLayer(input_size,hidden_size):\n",
    "    drawNet([input_size,hidden_size,1])\n",
    "\n",
    "def drawClassifierWithTwoHiddenLayers(input_size,hidden1_size,hidden2_size):\n",
    "    drawNet([input_size,hidden1_size,hidden2_size,1])\n",
    "    \n",
    "def floatSlider(value,mini,maxi,step,name,continuous=False):\n",
    "    return widgets.FloatSlider(value=value,min=mini,max=maxi,step=step,description=name,continuous_update=continuous)\n",
    "   \n",
    "def intSlider(value,mini,maxi,name,continuous=False):\n",
    "    return widgets.IntSlider(value=value,min=mini,max=maxi,step=1,description=name,continuous_update=continuous)\n",
    " \n",
    "def sigma(X):\n",
    "    return 1./(1+np.exp(-X))\n",
    "\n",
    "def ButtonGrid(m,n,description=''):\n",
    "    columns = []\n",
    "    for i in range(n):\n",
    "        columns.append(VBox([Button(description=str(i+j),layout=Layout(width='50px', height='35px')) for j in range(m)]))\n",
    "    columns.append(Label(value='\\('+description+'\\)'))\n",
    "    return HBox(columns)\n",
    "\n",
    "def TextBoxGrid(m,n,description=''):\n",
    "    columns = []\n",
    "    for i in range(n):\n",
    "        columns.append(VBox([BoundedFloatText(value=0.0,min=-1.0,max=1.0,step=0.01,description='',layout=Layout(width='65px', height='30px')) for j in range(m)]))\n",
    "    columns.append(Label(value='\\('+description+'\\)'))\n",
    "    return HBox(columns)\n"
   ]
  },
  {
   "cell_type": "code",
   "execution_count": 3,
   "metadata": {},
   "outputs": [
    {
     "data": {
      "application/vnd.jupyter.widget-view+json": {
       "model_id": "bf79803255774de7b467ac9fe2959a24",
       "version_major": 2,
       "version_minor": 0
      },
      "text/plain": [
       "interactive(children=(Dropdown(description='input_size', options=(2, 3), value=2), IntSlider(value=4, continuo…"
      ]
     },
     "metadata": {},
     "output_type": "display_data"
    }
   ],
   "source": [
    "# Classifier with one hidden layer of variable size\n",
    "\n",
    "hiddenLayerSizeSlider = intSlider(4,1,20,\"Hidden layer size\")\n",
    "\n",
    "interactive_network = interactive(drawClassifierWithOneHiddenLayer,input_size=[2,3], hidden_size=hiddenLayerSizeSlider)\n",
    "output = interactive_network.children[-1]\n",
    "output.layout.height = '400px'\n",
    "display(interactive_network)"
   ]
  },
  {
   "cell_type": "code",
   "execution_count": 4,
   "metadata": {},
   "outputs": [
    {
     "data": {
      "application/vnd.jupyter.widget-view+json": {
       "model_id": "17c285b4ee86488586e8edeacdbcaf70",
       "version_major": 2,
       "version_minor": 0
      },
      "text/plain": [
       "interactive(children=(Dropdown(description='input_size', options=(2, 3), value=2), IntSlider(value=4, continuo…"
      ]
     },
     "metadata": {},
     "output_type": "display_data"
    }
   ],
   "source": [
    "# Classifier with one hidden layer of variable size\n",
    "\n",
    "hiddenLayer1SizeSlider = intSlider(4,1,20,\"Hidden layer 1 size\")\n",
    "hiddenLayer2SizeSlider = intSlider(4,1,20,\"Hidden layer 2 size\")\n",
    "\n",
    "interactive_network = interactive(drawClassifierWithTwoHiddenLayers,input_size=[2,3],hidden1_size=hiddenLayer1SizeSlider,hidden2_size=hiddenLayer2SizeSlider)\n",
    "output = interactive_network.children[-1]\n",
    "output.layout.height = '400px'\n",
    "display(interactive_network)"
   ]
  },
  {
   "cell_type": "code",
   "execution_count": 5,
   "metadata": {},
   "outputs": [
    {
     "data": {
      "application/vnd.jupyter.widget-view+json": {
       "model_id": "a3bed4e39d434ed8a490039901396337",
       "version_major": 2,
       "version_minor": 0
      },
      "text/plain": [
       "interactive(children=(FloatSlider(value=1.0, continuous_update=False, description='w1', max=5.0, min=-5.0), Fl…"
      ]
     },
     "metadata": {},
     "output_type": "display_data"
    }
   ],
   "source": [
    "# Line\n",
    "\n",
    "def line(w1,w2, b):\n",
    "    if w1 != 0.0 or w2 != 0:\n",
    "        plt.figure(2)\n",
    "        t = np.linspace(-250, 250, num=100)\n",
    "        x = w2*t-(w1*b)/(w1**2+w2**2)\n",
    "        y = -w1*t-(w2*b)/(w1**2+w2**2)\n",
    "        plt.title('Decision boundary')\n",
    "        plt.plot(x,y)\n",
    "        plt.xlim(-25,25)\n",
    "        plt.ylim(-25, 25)\n",
    "        plt.show()\n",
    "    else:\n",
    "        print(\"Weights cannot both be zero!!!\")\n",
    "\n",
    "w1Slider=floatSlider(1,-5,5,0.1,'w1')\n",
    "w2Slider=floatSlider(1,-5,5,0.1,'w2')\n",
    "bSlider=floatSlider(0,-20,20,0.1,'b')\n",
    "\n",
    "interactive_plot = interactive(line, w1=w1Slider,w2=w2Slider, b=bSlider)\n",
    "output = interactive_plot.children[-1]\n",
    "output.layout.height = '350px'\n",
    "interactive_plot"
   ]
  },
  {
   "cell_type": "code",
   "execution_count": 6,
   "metadata": {},
   "outputs": [
    {
     "data": {
      "application/vnd.jupyter.widget-view+json": {
       "model_id": "6bed00c7ac42491a91d17c21dbef6ef4",
       "version_major": 2,
       "version_minor": 0
      },
      "text/plain": [
       "HBox(children=(FigureWidget({\n",
       "    'data': [{'cauto': False,\n",
       "              'cmax': 5,\n",
       "              'cmin': -5,…"
      ]
     },
     "metadata": {},
     "output_type": "display_data"
    }
   ],
   "source": [
    "# Plane\n",
    "\n",
    "# Init plane\n",
    "s = np.linspace(-100,100,50)\n",
    "t = np.linspace(-100,100,50)\n",
    "tGrid, sGrid = np.meshgrid(s, t)\n",
    "x = -sGrid\n",
    "y = -tGrid  \n",
    "z = sGrid   \n",
    "\n",
    "# Init scatter\n",
    "n_points = 20\n",
    "scatter_x = 10*np.random.rand(n_points)-5\n",
    "scatter_y = 10*np.random.rand(n_points)-5\n",
    "scatter_z = 10*np.random.rand(n_points)-5\n",
    "\n",
    "# Init plot\n",
    "surface = go.Surface(x=x, y=y, z=z,showscale=False,colorscale=\"Viridis\",cauto=False,cmin=-5,cmax=5,opacity=0.5)\n",
    "scatter = go.Scatter3d(x=scatter_x,y=scatter_y,z=scatter_z,mode='markers',\n",
    "    marker=dict(size=2,color=scatter_z+scatter_y+scatter_z,colorscale='RdBu',cauto=False,cmin=-5,cmax=5,opacity=1.0))\n",
    "data = [surface,scatter]\n",
    "layout = go.Layout(\n",
    "    hovermode=False,\n",
    "    autosize=False,\n",
    "    width=600,\n",
    "    height=600,\n",
    "    title='Parametric Plot',\n",
    "    scene=dict(\n",
    "        aspectmode = \"manual\",\n",
    "        aspectratio = dict(x = 1, y = 1, z = 1),\n",
    "        xaxis=dict(nticks=50,range=[-5,5],zerolinecolor='rgb(255,255,255)',showticklabels=False,showspikes=False),\n",
    "        yaxis=dict(nticks=50,range=[-5,5],zerolinecolor='rgb(255,255,255)',showticklabels= False,showspikes=False),\n",
    "        zaxis=dict(nticks=50,range=[-5,5],zerolinecolor='rgb(255,255,255)',showticklabels=False,showspikes=False)))\n",
    "f = go.FigureWidget(data=data, layout=layout)\n",
    "\n",
    "# Update function for slider\n",
    "def update(w1,w2,w3,b):\n",
    "    w_sq_len = w1**2+w2**2+w3**2\n",
    "    f.data[0].x = -w3*sGrid-w1*b/w_sq_len \n",
    "    f.data[0].y = -w3*tGrid-w2*b/w_sq_len  \n",
    "    f.data[0].z = w1*sGrid+w2*tGrid-w3*b/w_sq_len               \n",
    "    \n",
    "# Sliders\n",
    "w1=floatSlider(1,-5,5,0.1,'w1')\n",
    "w2=floatSlider(1,-5,5,0.1,'w2')\n",
    "w3=floatSlider(1,-5,5,0.1,'w3')\n",
    "b=floatSlider(0,-10,10,0.2,'b')\n",
    "\n",
    "# Display\n",
    "freq_slider = interactive(update, w1=w1,w2=w2,w3=w3,b=b)\n",
    "vb = HBox((f, freq_slider))\n",
    "vb.layout.align_items = 'center'\n",
    "vb"
   ]
  },
  {
   "cell_type": "code",
   "execution_count": 7,
   "metadata": {},
   "outputs": [
    {
     "data": {
      "application/vnd.jupyter.widget-view+json": {
       "model_id": "a6ea2dadbcbf4e39b0bb7f119f012105",
       "version_major": 2,
       "version_minor": 0
      },
      "text/plain": [
       "interactive(children=(FloatSlider(value=0.1, continuous_update=False, description='w00', max=1.0, min=-1.0), F…"
      ]
     },
     "metadata": {},
     "output_type": "display_data"
    }
   ],
   "source": [
    "# Decision boundary v1. using matplotlib scatterplot\n",
    "\n",
    "def update(w00,w01,w02,w10,w11,w12,b0,b1,b2,v0,v1,v2):\n",
    "    plt.figure(8)\n",
    "    V = np.array([[v0],[v1],[v2]]) # Second weight matrix\n",
    "    b = np.array([[b0,b1,b2]]) # Bias\n",
    "    W = np.array([[w00,w01,w02],[w10,w11,w12]]) # First weight matrix\n",
    "    lin = np.linspace(-5,5,400)\n",
    "    x = np.stack(np.meshgrid(lin,lin),axis=-1).reshape(-1,2) # Inputs\n",
    "    y = np.tanh(np.dot(x,W)+b)\n",
    "    z = np.dot(y,V).reshape(-1)\n",
    "    idx1 = np.where(z>0)[0]\n",
    "    idx2 = np.where(z<0)[0]\n",
    "    x1,x2 = x[idx1],x[idx2]\n",
    "    plt.title('Decision boundary')\n",
    "    plt.scatter(x1[:,0],x1[:,1],s=0.5,color=\"red\")\n",
    "    plt.scatter(x2[:,0],x2[:,1],s=0.5,color=\"blue\")    \n",
    "    plt.scatter([-2,-2,2,2],[-2,2,-2,2],s=20,color=\"black\",marker=\"+\")\n",
    "    plt.show()\n",
    "\n",
    "# Sliders\n",
    "w00=floatSlider(0.1,-1,1,0.1,'w00')\n",
    "w10=floatSlider(0.1,-1,1,0.1,'w10')\n",
    "w01=floatSlider(0.2,-1,1,0.1,'w01')\n",
    "w11=floatSlider(-0.2,-1,1,0.1,'w11')\n",
    "w02=floatSlider(-0.1,-1,1,0.1,'w02')\n",
    "w12=floatSlider(-0.1,-1,1,0.1,'w12')\n",
    "b0=floatSlider(0.3,-1,1,0.1,'b0')\n",
    "b1=floatSlider(-0.3,-1,1,0.1,'b1')\n",
    "b2=floatSlider(-0.3,-1,1,0.1,'b2')\n",
    "v0=floatSlider(-0.1,-1,1,0.1,'v0')\n",
    "v1=floatSlider(0.1,-1,1,0.1,'v1')\n",
    "v2=floatSlider(0.1,-1,1,0.1,'v2')\n",
    "\n",
    "# Display\n",
    "slidey = interactive(update,w00=w00,w01=w01,w02=w02,w10=w10,w11=w11,w12=w12,b0=b0,b1=b1,b2=b2,v0=v0,v1=v1,v2=v2)\n",
    "slidey"
   ]
  },
  {
   "cell_type": "code",
   "execution_count": 8,
   "metadata": {},
   "outputs": [
    {
     "data": {
      "application/vnd.jupyter.widget-view+json": {
       "model_id": "fe1bd5bb128f4c348a2b55a5c1a006c3",
       "version_major": 2,
       "version_minor": 0
      },
      "text/plain": [
       "HBox(children=(FigureWidget({\n",
       "    'data': [{'colorscale': 'Viridis',\n",
       "              'showscale': False,\n",
       "       …"
      ]
     },
     "metadata": {},
     "output_type": "display_data"
    }
   ],
   "source": [
    "# Decision boundary v.2 using plotly heatmap\n",
    "\n",
    "N = 400 \n",
    "lin = np.linspace(-5,5,N)\n",
    "grid = np.stack(np.meshgrid(lin,lin),axis=-1).reshape(-1,2) # Inputs\n",
    "scatter_x,scatter_y = grid[:,0],grid[:,1]\n",
    "scatter_color = np.random.random(np.shape(scatter_x))-0.5\n",
    "heatmap = go.Heatmap(z=np.random.random((N,N)),showscale=False,colorscale=\"Viridis\")\n",
    "data = [heatmap]\n",
    "layout = go.Layout(\n",
    "    autosize=False,\n",
    "    width=400,\n",
    "    height=400,\n",
    "    title='Decision boundary',\n",
    "    scene=dict(\n",
    "        aspectmode = \"manual\",\n",
    "        aspectratio = dict(x = 1, y = 1),\n",
    "        xaxis=dict(nticks=50,range=[-5,5],showticklabels=False),\n",
    "        yaxis=dict(nticks=50,range=[-5,5],showticklabels= False)))\n",
    "ff = go.FigureWidget(data=data,layout=layout)\n",
    "\n",
    "def update(w00,w01,w02,w10,w11,w12,b0,b1,b2,v0,v1,v2):\n",
    "    V = np.array([[v0],[v1],[v2]]) # Second weight matrix\n",
    "    b = np.array([[b0,b1,b2]]) # Bias\n",
    "    W = np.array([[w00,w01,w02],[w10,w11,w12]]) # First weight matrix\n",
    "    lin = np.linspace(-5,5,N)\n",
    "    x = np.stack(np.meshgrid(lin,lin),axis=-1).reshape(-1,2) # Inputs\n",
    "    y = np.tanh(np.dot(x,W)+b)\n",
    "    z = np.dot(y,V).reshape(-1)\n",
    "    c = 1*(z<0).reshape(N,N)\n",
    "    ff.data[0].z = c\n",
    "\n",
    "\n",
    "# Sliders\n",
    "w00=floatSlider(0.1,-1,1,0.1,'w00')\n",
    "w01=floatSlider(0.1,-1,1,0.1,'w01')\n",
    "w02=floatSlider(0.2,-1,1,0.1,'w02')\n",
    "w10=floatSlider(-0.2,-1,1,0.1,'w10')\n",
    "w11=floatSlider(-0.1,-1,1,0.1,'w11')\n",
    "w12=floatSlider(-0.1,-1,1,0.1,'w12')\n",
    "b0=floatSlider(0.3,-1,1,0.1,'b0')\n",
    "b1=floatSlider(-0.3,-1,1,0.1,'b1')\n",
    "b2=floatSlider(-0.3,-1,1,0.1,'b2')\n",
    "v0=floatSlider(-0.1,-1,1,0.1,'v0')\n",
    "v1=floatSlider(0.1,-1,1,0.1,'v1')\n",
    "v2=floatSlider(0.1,-1,1,0.1,'v2')\n",
    "\n",
    "# Display\n",
    "slidey = interactive(update,w00=w00,w01=w01,w02=w02,w10=w10,w11=w11,w12=w12,b0=b0,b1=b1,b2=b2,v0=v0,v1=v1,v2=v2)\n",
    "vc = HBox((ff, slidey))\n",
    "vc.layout.align_items = 'center'\n",
    "vc\n"
   ]
  },
  {
   "cell_type": "code",
   "execution_count": 9,
   "metadata": {},
   "outputs": [
    {
     "data": {
      "application/vnd.jupyter.widget-view+json": {
       "model_id": "5d5659b43c02402c9955909f57b80c46",
       "version_major": 2,
       "version_minor": 0
      },
      "text/plain": [
       "Box(children=(HBox(children=(VBox(children=(Button(description='0', layout=Layout(height='35px', width='50px')…"
      ]
     },
     "metadata": {},
     "output_type": "display_data"
    }
   ],
   "source": [
    "\n",
    "\n",
    "\n",
    "\n",
    "#VBox([TextBoxGrid(1,4,\"b_1\"),TextBoxGrid(2,3,\"w_1\"),TextBoxGrid(5,2,'w_2')],layout=Layout(height='300px',justify_content='space-between'))\n",
    "Box([ButtonGrid(1,4,\"b_1\"),ButtonGrid(2,3,\"w_1\"),ButtonGrid(5,2,'w_2')],layout=Layout(display='flex',flex_flow='column',height='350px',justify_content='space-between'))\n"
   ]
  },
  {
   "cell_type": "code",
   "execution_count": 10,
   "metadata": {},
   "outputs": [],
   "source": [
    "def trainNetwork(X,target,n,m,alpha,nitrs):\n",
    "\n",
    "    # Init network weights\n",
    "    w1 = np.random.random((2,n))-0.5\n",
    "    b1 = np.random.random((1,n))-0.5\n",
    "    w2 = np.random.random((n,1))-0.5\n",
    "    b2 = np.random.random((1,1))-0.5\n",
    "\n",
    "    # Store training data\n",
    "    w1s = []\n",
    "    b1s = []\n",
    "    w2s = []\n",
    "    b2s = []\n",
    "    es = [] # Fraction incorrect\n",
    "    acs = []\n",
    "\n",
    "    # Train\n",
    "    for itr in range(nitrs):\n",
    "        # Forward\n",
    "        a = np.dot(X,w1)+b1 \n",
    "        y = sigma(a) # Hidden layer activity\n",
    "        b = np.dot(y,w2)+b2\n",
    "        z = sigma(b) # Output activity\n",
    "        e = np.sum((z-target)**2)/2. # Error\n",
    "        ac = np.sum(np.abs(z-target)<0.5) # Number correct\n",
    "\n",
    "        # Store info\n",
    "        w1s.append(w1.copy())\n",
    "        b1s.append(b1.copy())\n",
    "        w2s.append(w2.copy())\n",
    "        b2s.append(b2.copy())\n",
    "        es.append(e.copy())\n",
    "        acs.append(ac.copy())\n",
    "\n",
    "        # Back\n",
    "        dz = z - target # Error at z\n",
    "        db = z*(1-z)*dz # Error at b\n",
    "        db2 = np.sum(db,axis=0,keepdims=True) # Error at b2\n",
    "        dw2 = np.dot(y.T,db) # Error at w2\n",
    "        dy = np.dot(db,w2.T) # Error at y\n",
    "        da = y*(1-y)*dy # Error at a\n",
    "        db1 = np.sum(da,axis=0,keepdims=True) # Error at b1\n",
    "        dw1 = np.dot(X.T,da) # Error at w1\n",
    "\n",
    "        # Update\n",
    "        w1 -= alpha*dw1\n",
    "        b1 -= alpha*db1\n",
    "        w2 -= alpha*dw2\n",
    "        b2 -= alpha*db2\n",
    "\n",
    "    return np.stack(w1s),np.stack(b1s),np.stack(w2s),np.stack(b2s),np.stack(es),np.stack(acs)\n",
    "\n",
    "# Parameters\n",
    "n,m,alpha,nitrs = 15,10,0.1,1000\n",
    "\n",
    "# Data\n",
    "X = 10*np.random.random((m,2))-5\n",
    "target = 1*(np.random.random((m,1))>0.5)\n",
    "\n",
    "w1s,b1s,w2s,b2s,es,acs = trainNetwork(X,target,n,m,alpha,nitrs)\n",
    "    \n",
    "    \n"
   ]
  },
  {
   "cell_type": "code",
   "execution_count": 11,
   "metadata": {},
   "outputs": [
    {
     "data": {
      "application/vnd.jupyter.widget-view+json": {
       "model_id": "4c3b3c54003d463cab45377ca6e853dc",
       "version_major": 2,
       "version_minor": 0
      },
      "text/plain": [
       "VBox(children=(HBox(children=(VBox(children=(Button(description='w0,0', layout=Layout(height='35px', width='50…"
      ]
     },
     "metadata": {},
     "output_type": "display_data"
    }
   ],
   "source": [
    "# Create traces\n",
    "traces = []\n",
    "for i in range(2):\n",
    "    for j in range(n):\n",
    "        trace = go.Scatter(\n",
    "            x = [t for t in range(nitrs)],\n",
    "            y = w1s[:,i,j],\n",
    "            mode = 'lines',\n",
    "            name = 'w1_'+str(i)+str(j),\n",
    "            line = dict(\n",
    "            color = ('rgba(255,255,255,0.0)'),\n",
    "            width = 2)\n",
    "        )\n",
    "        traces.append(trace)\n",
    "    \n",
    "traces[0].line.color = 'rgb(100,200,150)'\n",
    "\n",
    "fff = go.FigureWidget(data=traces)\n",
    "\n",
    "def highlight(b):\n",
    "    i,j = b.description[1:].split(',')\n",
    "    i,j = int(i),int(j)\n",
    "    for datum in fff.data:\n",
    "        datum.line.color = 'rgba(250,250,250,0.0)'\n",
    "    fff.data[2*i+j].line.color = 'rgb(100,200,150)'\n",
    "\n",
    "# Array of buttons\n",
    "button_grid = np.array([[Button(description='w'+str(i)+','+str(j),layout=Layout(width='50px', height='35px')) for j in range(n)] for i in range(2)],dtype='object')\n",
    "\n",
    "for i in range(2):\n",
    "    for j in range(n):\n",
    "        button_grid[i,j].on_click(highlight)\n",
    "\n",
    "# Create display\n",
    "columns = [VBox([button_grid[j,i] for j in range(2)]) for i in range(n)]\n",
    "buttons = HBox(columns)\n",
    "VBox((buttons,fff))\n"
   ]
  },
  {
   "cell_type": "code",
   "execution_count": 12,
   "metadata": {},
   "outputs": [
    {
     "data": {
      "application/vnd.jupyter.widget-view+json": {
       "model_id": "8fabd2667e144c20a83b95457a113f6c",
       "version_major": 2,
       "version_minor": 0
      },
      "text/plain": [
       "HBox(children=(FigureWidget({\n",
       "    'data': [{'colorscale': 'Viridis',\n",
       "              'showscale': False,\n",
       "       …"
      ]
     },
     "metadata": {},
     "output_type": "display_data"
    }
   ],
   "source": [
    "# Decision boundary v.2 using plotly heatmap\n",
    "\n",
    "N = 300 \n",
    "scale = N/10 # How much to scale coordinates by...\n",
    "\n",
    "# Data points\n",
    "data_x,data_y = (X.T+5)*scale\n",
    "classes = target[:,0]\n",
    "\n",
    "data_points = go.Scatter(x=data_x,y=data_y,mode='markers',marker=dict(\n",
    "        size=5,\n",
    "        color = classes, \n",
    "        colorscale='RdBu',\n",
    "        showscale=False))\n",
    "\n",
    "# Classifier values\n",
    "lin = np.linspace(-5,5,N)\n",
    "grid = np.stack(np.meshgrid(lin,lin),axis=-1).reshape(-1,2) # Inputs\n",
    "scatter_x,scatter_y = grid[:,0],grid[:,1]\n",
    "scatter_color = np.random.random(np.shape(scatter_x))-0.5\n",
    "heatmap = go.Heatmap(z=np.random.random((N,N)),showscale=False,colorscale=\"Viridis\")\n",
    "\n",
    "data = [heatmap,data_points]\n",
    "layout = go.Layout(\n",
    "    autosize=False,\n",
    "    width=400,\n",
    "    height=400,\n",
    "    title='Decision boundary  Correct: '+str(acs[0])+'/'+str(m),\n",
    "    scene=dict(\n",
    "        aspectmode = \"manual\",\n",
    "        aspectratio = dict(x = 1, y = 1),\n",
    "        xaxis=dict(nticks=50,range=[-5,5],showticklabels=False),\n",
    "        yaxis=dict(nticks=50,range=[-5,5],showticklabels= False)))\n",
    "ff = go.FigureWidget(data=data,layout=layout)\n",
    "\n",
    "def update(t):\n",
    "    w1 = w1s[t]\n",
    "    b1 = b1s[t]\n",
    "    w2 = w2s[t]\n",
    "    b2 = b2s[t]\n",
    "    lin = np.linspace(-5,5,N)\n",
    "    grid = np.stack(np.meshgrid(lin,lin),axis=-1).reshape(-1,2) # Inputs\n",
    "    a = np.dot(grid,w1)+b1 \n",
    "    y = sigma(a) # Hidden layer activity\n",
    "    b = np.dot(y,w2)+b2\n",
    "    z = sigma(b) # Output activity\n",
    "    c = 1*(z<0.5).reshape(N,N)\n",
    "    ff.data[0].z = c\n",
    "    ff.layout.title = 'Decision boundary: # correct ='+str(acs[t])+'/'+str(m)\n",
    "    \n",
    "\n",
    "play = widgets.Play(\n",
    "#     interval=10,\n",
    "    value=0,\n",
    "    min=0,\n",
    "    max=nitrs-1,\n",
    "    step=1,\n",
    "    description=\"Animate training\",\n",
    "    disabled=False\n",
    ")\n",
    "    \n",
    "tSlider=intSlider(0,0,nitrs-1,\"time\",continuous=True)\n",
    "\n",
    "widgets.jslink((play, 'value'), (tSlider, 'value'))\n",
    "widgets.HBox([play, tSlider])\n",
    "\n",
    "# Display\n",
    "slidey = interactive(update,t=tSlider)\n",
    "vc = HBox((ff,play,slidey))\n",
    "vc.layout.align_items = 'center'\n",
    "vc"
   ]
  },
  {
   "cell_type": "code",
   "execution_count": null,
   "metadata": {},
   "outputs": [],
   "source": []
  }
 ],
 "metadata": {
  "kernelspec": {
   "display_name": "Python 3",
   "language": "python",
   "name": "python3"
  },
  "language_info": {
   "codemirror_mode": {
    "name": "ipython",
    "version": 3
   },
   "file_extension": ".py",
   "mimetype": "text/x-python",
   "name": "python",
   "nbconvert_exporter": "python",
   "pygments_lexer": "ipython3",
   "version": "3.6.5"
  }
 },
 "nbformat": 4,
 "nbformat_minor": 2
}
