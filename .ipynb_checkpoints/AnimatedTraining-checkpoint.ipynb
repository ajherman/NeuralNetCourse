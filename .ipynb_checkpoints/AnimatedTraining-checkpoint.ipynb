{
 "cells": [
  {
   "cell_type": "code",
   "execution_count": 1,
   "metadata": {},
   "outputs": [],
   "source": [
    "from AuxFun import *"
   ]
  },
  {
   "cell_type": "markdown",
   "metadata": {},
   "source": [
    "*** 2D Demo ***"
   ]
  },
  {
   "cell_type": "code",
   "execution_count": 2,
   "metadata": {},
   "outputs": [],
   "source": [
    "# Parameters\n",
    "\n",
    "n_points = 20 \n",
    "n_iters = 1000 \n",
    "alpha = 0.1 # Learning rate\n",
    "dim = 2 # Data dimension\n",
    "sample_density = 300 \n",
    "scale = sample_density/10 # How much to scale coordinates by..."
   ]
  },
  {
   "cell_type": "code",
   "execution_count": 3,
   "metadata": {},
   "outputs": [],
   "source": [
    "# Create dataset\n",
    "\n",
    "X = 10*np.random.random((n_points,dim))-5\n",
    "target = 1*(np.random.random((n_points,1))>0.5)"
   ]
  },
  {
   "cell_type": "code",
   "execution_count": 4,
   "metadata": {},
   "outputs": [
    {
     "ename": "AttributeError",
     "evalue": "'tuple' object has no attribute 'append'",
     "output_type": "error",
     "traceback": [
      "\u001b[0;31m---------------------------------------------------------------------------\u001b[0m",
      "\u001b[0;31mAttributeError\u001b[0m                            Traceback (most recent call last)",
      "\u001b[0;32m<ipython-input-4-03f9bebeb82d>\u001b[0m in \u001b[0;36m<module>\u001b[0;34m()\u001b[0m\n\u001b[1;32m     31\u001b[0m     \u001b[0;31m#histories.data=traces\u001b[0m\u001b[0;34m\u001b[0m\u001b[0;34m\u001b[0m\u001b[0m\n\u001b[1;32m     32\u001b[0m \u001b[0;34m\u001b[0m\u001b[0m\n\u001b[0;32m---> 33\u001b[0;31m \u001b[0monClick\u001b[0m\u001b[0;34m(\u001b[0m\u001b[0;36m0\u001b[0m\u001b[0;34m)\u001b[0m\u001b[0;34m\u001b[0m\u001b[0m\n\u001b[0m\u001b[1;32m     34\u001b[0m \u001b[0mtrain\u001b[0m \u001b[0;34m=\u001b[0m \u001b[0mmakeButton\u001b[0m\u001b[0;34m(\u001b[0m\u001b[0;34m\"Train network\"\u001b[0m\u001b[0;34m,\u001b[0m\u001b[0monClick\u001b[0m\u001b[0;34m)\u001b[0m\u001b[0;34m\u001b[0m\u001b[0m\n\u001b[1;32m     35\u001b[0m \u001b[0;34m\u001b[0m\u001b[0m\n",
      "\u001b[0;32m<ipython-input-4-03f9bebeb82d>\u001b[0m in \u001b[0;36monClick\u001b[0;34m(b)\u001b[0m\n\u001b[1;32m     27\u001b[0m                 width = 1)\n\u001b[1;32m     28\u001b[0m             )\n\u001b[0;32m---> 29\u001b[0;31m             \u001b[0mhistories\u001b[0m\u001b[0;34m.\u001b[0m\u001b[0mdata\u001b[0m\u001b[0;34m.\u001b[0m\u001b[0mappend\u001b[0m\u001b[0;34m(\u001b[0m\u001b[0mtrace\u001b[0m\u001b[0;34m)\u001b[0m\u001b[0;34m\u001b[0m\u001b[0m\n\u001b[0m\u001b[1;32m     30\u001b[0m             \u001b[0;31m#traces.append(trace)\u001b[0m\u001b[0;34m\u001b[0m\u001b[0;34m\u001b[0m\u001b[0m\n\u001b[1;32m     31\u001b[0m     \u001b[0;31m#histories.data=traces\u001b[0m\u001b[0;34m\u001b[0m\u001b[0;34m\u001b[0m\u001b[0m\n",
      "\u001b[0;31mAttributeError\u001b[0m: 'tuple' object has no attribute 'append'"
     ]
    }
   ],
   "source": [
    "w1s,b1s,w2s,b2s,es,acs,cs, traces = [0],[0],[0],[0],[0],[0],[0],[]\n",
    "\n",
    "# Network graph\n",
    "hiddenLayerSizeSlider = intSlider(4,1,20,\"Hidden layer size\")\n",
    "network_graph = interactive(drawClassifierWithOneHiddenLayer,input_size=fixed(2), hidden_size=hiddenLayerSizeSlider)\n",
    "output = network_graph.children[-1]\n",
    "output.layout.height = '400px'\n",
    "\n",
    "vline_layout = go.Layout(autosize=False,width=600,height=400,shapes= [{'type': 'line','x0': 1,'y0': -2,'x1': 1,'y1': 2,'line': {'color': 'rgb(100,0,0)','width': 2}}])\n",
    "histories = go.FigureWidget(data=traces,layout=vline_layout)\n",
    "\n",
    "# Training button\n",
    "def onClick(b):\n",
    "    global w1s,b1s,w2s,b2s,es,acs,cs,traces,histories\n",
    "    w1s,b1s,w2s,b2s,es,acs = trainNetwork(X,target,hiddenLayerSizeSlider.value,alpha,n_iters)\n",
    "    cs = makeFrames(w1s,b1s,w2s,b2s,es,acs,sample_density)\n",
    "    #traces = []\n",
    "    #histories.data = []\n",
    "    #for i in range(2):\n",
    "    #    for j in range(hiddenLayerSizeSlider.value):\n",
    "    #        trace = go.Scatter(\n",
    "    #            x = [t for t in range(n_iters)],\n",
    "    #            y = w1s[:,i,j],\n",
    "    #            mode = 'lines',\n",
    "    #            name = 'w1_'+str(i)+str(j),\n",
    "    #            line = dict(\n",
    "    #            width = 1)\n",
    "    #        )\n",
    "    #        histories.data.append(trace)\n",
    "            #traces.append(trace)\n",
    "    #histories.data=traces\n",
    "    \n",
    "onClick(0)\n",
    "train = makeButton(\"Train network\",onClick)\n",
    "\n",
    "# Decision boundary plot\n",
    "data_x,data_y = (X.T+5)*scale\n",
    "classes = target[:,0]\n",
    "data_points = go.Scatter(x=data_x,y=data_y,mode='markers',marker=dict(\n",
    "        size=5,\n",
    "        color = classes, \n",
    "        colorscale='RdBu',\n",
    "        showscale=False))\n",
    "heatmap = go.Heatmap(z=np.random.random((sample_density)),showscale=False,colorscale=\"Viridis\")\n",
    "data = [heatmap,data_points]\n",
    "layout = go.Layout(autosize=False,width=400,height=400,title='Decision boundary  Correct: '+str(acs[0])+'/'+str(n_points),\n",
    "scene=dict(aspectmode = \"manual\",aspectratio = dict(x = 1, y = 1),xaxis=dict(nticks=50,range=[-5,5],showticklabels=False),yaxis=dict(nticks=50,range=[-5,5],showticklabels= False)))\n",
    "dbPlot = go.FigureWidget(data=data,layout=layout)\n",
    "\n",
    "# Weights histories\n",
    "traces = []\n",
    "for i in range(2):\n",
    "    for j in range(hiddenLayerSizeSlider.value):\n",
    "        trace = go.Scatter(\n",
    "            x = [t for t in range(n_iters)],\n",
    "            y = w1s[:,i,j],\n",
    "            mode = 'lines',\n",
    "            name = 'w1_'+str(i)+str(j),\n",
    "            line = dict(\n",
    "            width = 1)\n",
    "        )\n",
    "        traces.append(trace)\n",
    "vline_layout = go.Layout(autosize=False,width=600,height=400,shapes= [{'type': 'line','x0': 1,'y0': -2,'x1': 1,'y1': 2,'line': {'color': 'rgb(100,0,0)','width': 2}}])\n",
    "histories = go.FigureWidget(data=traces,layout=vline_layout)\n",
    "\n",
    "# Animated slider\n",
    "def update(t):\n",
    "    c = cs[t]\n",
    "    dbPlot.data[0].z = c\n",
    "    dbPlot.layout.title = 'Decision boundary: # correct ='+str(acs[t])+'/'+str(n_points)\n",
    "    histories.layout.shapes[0].x0=t\n",
    "    histories.layout.shapes[0].x1=t\n",
    "play,slider = playSlider(\"Animate training\",n_iters)\n",
    "slidey = interactive(update,t=slider)\n",
    "\n",
    "#Display\n",
    "vc = HBox((dbPlot,play,slidey))\n",
    "vc.layout.align_items = 'center'\n",
    "VBox([HBox([train,network_graph]),vc,histories])"
   ]
  },
  {
   "cell_type": "code",
   "execution_count": null,
   "metadata": {},
   "outputs": [],
   "source": []
  }
 ],
 "metadata": {
  "kernelspec": {
   "display_name": "Python 3",
   "language": "python",
   "name": "python3"
  },
  "language_info": {
   "codemirror_mode": {
    "name": "ipython",
    "version": 3
   },
   "file_extension": ".py",
   "mimetype": "text/x-python",
   "name": "python",
   "nbconvert_exporter": "python",
   "pygments_lexer": "ipython3",
   "version": "3.6.5"
  }
 },
 "nbformat": 4,
 "nbformat_minor": 2
}
