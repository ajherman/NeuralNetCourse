{
 "cells": [
  {
   "cell_type": "code",
   "execution_count": 1,
   "metadata": {},
   "outputs": [],
   "source": [
    "from AuxFun import *"
   ]
  },
  {
   "cell_type": "markdown",
   "metadata": {},
   "source": [
    "*** 2D Demo ***"
   ]
  },
  {
   "cell_type": "code",
   "execution_count": 2,
   "metadata": {},
   "outputs": [],
   "source": [
    "# Parameters\n",
    "\n",
    "n_points = 20 \n",
    "n_iters = 1000 \n",
    "alpha = 0.1 # Learning rate\n",
    "dim = 2 # Data dimension\n",
    "sample_density = 300 \n",
    "scale = sample_density/10 # How much to scale coordinates by..."
   ]
  },
  {
   "cell_type": "code",
   "execution_count": 3,
   "metadata": {},
   "outputs": [],
   "source": [
    "# Create dataset\n",
    "\n",
    "X = 10*np.random.random((n_points,dim))-5\n",
    "target = 1*(np.random.random((n_points,1))>0.5)"
   ]
  },
  {
   "cell_type": "code",
   "execution_count": 4,
   "metadata": {},
   "outputs": [
    {
     "data": {
      "text/plain": [
       "'\\n# Network graph\\nhiddenLayerSizeSlider = intSlider(4,1,20,\"Hidden layer size\")\\nnetwork_graph = interactive(drawClassifierWithOneHiddenLayer,input_size=fixed(dim), hidden_size=hiddenLayerSizeSlider)\\noutput = network_graph.children[-1]\\noutput.layout.height = \\'300px\\'\\n\\n# Init\\nw1s,b1s,w2s,b2s,es,acs = trainNetwork(X,target,hiddenLayerSizeSlider.value,alpha,n_iters)\\ncs = makeFrames2D(w1s,b1s,w2s,b2s,es,acs,sample_density)\\ntraces = [go.Scatter(x = [t for t in range(n_iters)],y = w1s[:,i,j],mode = \\'lines\\',name = \\'$w_{\\'+str(i)+\\',\\'+str(j)+\\'}$\\',line = dict(width = 1)) for i in range(2) for j in range(hiddenLayerSizeSlider.value)]+    [go.Scatter(visible=False,x = [t for t in range(n_iters)],y=[],mode = \\'lines\\',line = dict(width = 1)) for i in range(200)]\\n\\n# Histories\\nvline_layout = go.Layout(autosize=False,width=600,height=400,shapes= [{\\'type\\': \\'line\\',\\'x0\\': 1,\\'y0\\': -2,\\'x1\\': 1,\\'y1\\': 2,\\'line\\': {\\'color\\': \\'rgb(100,0,0)\\',\\'width\\': 2}}])\\nhistories = go.FigureWidget(data=traces,layout=vline_layout)\\n\\n# Decision boundary plot\\ndata_x,data_y = (X.T+5)*scale\\nclasses = target[:,0]\\ndata_points = go.Scatter(x=data_x,y=data_y,mode=\\'markers\\',marker=dict(size=5,color = classes, colorscale=\\'RdBu\\',showscale=False))\\nheatmap = go.Heatmap(z=np.random.random((sample_density)),showscale=False,colorscale=\"Viridis\")\\ndata = [heatmap,data_points]\\nlayout = go.Layout(autosize=False,width=400,height=400,title=\\'Decision boundary  Correct: \\'+str(acs[0])+\\'/\\'+str(n_points),\\nscene=dict(aspectmode = \"manual\",aspectratio = dict(x = 1, y = 1),xaxis=dict(nticks=50,range=[-5,5],showticklabels=False),yaxis=dict(nticks=50,range=[-5,5],showticklabels= False)))\\ndbPlot = go.FigureWidget(data=data,layout=layout)\\n\\n# Training button\\ndef onClick(b):\\n    w1s,b1s,w2s,b2s,es,acs = trainNetwork(X,target,hiddenLayerSizeSlider.value,alpha,n_iters)\\n    cs[:] = makeFrames2D(w1s,b1s,w2s,b2s,es,acs,sample_density)    \\n    dbPlot.data[0].z = cs[slider.value]\\n    for trace in histories.data:\\n        trace.visible = False\\n    idx = 0\\n    for i in range(2): \\n        for j in range(hiddenLayerSizeSlider.value):\\n            histories.data[idx].y = w1s[:,i,j]\\n            histories.data[idx].name = \\'$w_{\\'+str(i)+\\',\\'+str(j)+\\'}$\\'\\n            idx += 1\\n    idx = 0\\n    for i in range(2): \\n        for j in range(hiddenLayerSizeSlider.value):\\n            histories.data[idx].visible=True\\n            idx += 1\\ntrain = makeButton(\"Train network\",onClick)\\n\\n# Animated slider\\ndef update(t):\\n    dbPlot.data[0].z = cs[t]\\n    dbPlot.layout.title = \\'Decision boundary: # correct =\\'+str(acs[t])+\\'/\\'+str(n_points)\\n    histories.layout.shapes[0].x0=t\\n    histories.layout.shapes[0].x1=t\\nplay,slider = playSlider(\"Animate training\",n_iters)\\nslidey = interactive(update,t=slider)\\n\\n#Display\\nplayer = HBox([play,slidey])\\nplayer.layoutjustify_content = \\'center\\'\\nVBox([HBox([train,network_graph]),player,HBox([dbPlot,histories])])\\n'"
      ]
     },
     "execution_count": 4,
     "metadata": {},
     "output_type": "execute_result"
    }
   ],
   "source": [
    "# Network graph\n",
    "hiddenLayerSizeSlider = intSlider(4,1,20,\"Hidden layer size\")\n",
    "network_graph = interactive(drawClassifierWithOneHiddenLayer,input_size=fixed(dim), hidden_size=hiddenLayerSizeSlider)\n",
    "output = network_graph.children[-1]\n",
    "output.layout.height = '300px'\n",
    "\n",
    "# Init\n",
    "w1s,b1s,w2s,b2s,es,acs = trainNetwork(X,target,hiddenLayerSizeSlider.value,alpha,n_iters)\n",
    "cs = makeFrames2D(w1s,b1s,w2s,b2s,es,acs,sample_density)\n",
    "traces = [go.Scatter(x = [t for t in range(n_iters)],y = w1s[:,i,j],mode = 'lines',name = '$w_{'+str(i)+','+str(j)+'}$',line = dict(width = 1)) for i in range(2) for j in range(hiddenLayerSizeSlider.value)]+\\\n",
    "    [go.Scatter(visible=False,x = [t for t in range(n_iters)],y=[],mode = 'lines',line = dict(width = 1)) for i in range(200)]\n",
    "\n",
    "# Histories\n",
    "vline_layout = go.Layout(autosize=False,width=600,height=400,shapes= [{'type': 'line','x0': 1,'y0': -2,'x1': 1,'y1': 2,'line': {'color': 'rgb(100,0,0)','width': 2}}])\n",
    "histories = go.FigureWidget(data=traces,layout=vline_layout)\n",
    "\n",
    "# Decision boundary plot\n",
    "data_x,data_y = (X.T+5)*scale\n",
    "classes = target[:,0]\n",
    "data_points = go.Scatter(x=data_x,y=data_y,mode='markers',marker=dict(size=5,color = classes, colorscale='RdBu',showscale=False))\n",
    "heatmap = go.Heatmap(z=np.random.random((sample_density)),showscale=False,colorscale=\"Viridis\")\n",
    "data = [heatmap,data_points]\n",
    "layout = go.Layout(autosize=False,width=400,height=400,title='Decision boundary  Correct: '+str(acs[0])+'/'+str(n_points),\n",
    "scene=dict(aspectmode = \"manual\",aspectratio = dict(x = 1, y = 1),xaxis=dict(nticks=50,range=[-5,5],showticklabels=False),yaxis=dict(nticks=50,range=[-5,5],showticklabels= False)))\n",
    "dbPlot = go.FigureWidget(data=data,layout=layout)\n",
    "\n",
    "# Training button\n",
    "def onClick(b):\n",
    "    w1s,b1s,w2s,b2s,es,acs = trainNetwork(X,target,hiddenLayerSizeSlider.value,alpha,n_iters)\n",
    "    cs[:] = makeFrames2D(w1s,b1s,w2s,b2s,es,acs,sample_density)    \n",
    "    dbPlot.data[0].z = cs[slider.value]\n",
    "    for trace in histories.data:\n",
    "        trace.visible = False\n",
    "    idx = 0\n",
    "    for i in range(2): \n",
    "        for j in range(hiddenLayerSizeSlider.value):\n",
    "            histories.data[idx].y = w1s[:,i,j]\n",
    "            histories.data[idx].name = '$w_{'+str(i)+','+str(j)+'}$'\n",
    "            idx += 1\n",
    "    idx = 0\n",
    "    for i in range(2): \n",
    "        for j in range(hiddenLayerSizeSlider.value):\n",
    "            histories.data[idx].visible=True\n",
    "            idx += 1\n",
    "train = makeButton(\"Train network\",onClick)\n",
    "\n",
    "# Animated slider\n",
    "def update(t):\n",
    "    dbPlot.data[0].z = cs[t]\n",
    "    dbPlot.layout.title = 'Decision boundary: # correct ='+str(acs[t])+'/'+str(n_points)\n",
    "    histories.layout.shapes[0].x0=t\n",
    "    histories.layout.shapes[0].x1=t\n",
    "play,slider = playSlider(\"Animate training\",n_iters)\n",
    "slidey = interactive(update,t=slider)\n",
    "\n",
    "#Display\n",
    "player = HBox([play,slidey])\n",
    "player.layoutjustify_content = 'center'\n",
    "VBox([HBox([train,network_graph]),player,HBox([dbPlot,histories])])"
   ]
  },
  {
   "cell_type": "markdown",
   "metadata": {},
   "source": [
    "*** 3D Demo ***"
   ]
  },
  {
   "cell_type": "code",
   "execution_count": 5,
   "metadata": {},
   "outputs": [],
   "source": [
    "# Parameters\n",
    "\n",
    "n_points = 20 \n",
    "n_iters = 200\n",
    "alpha = 0.1 # Learning rate\n",
    "dim = 3 # Data dimension\n",
    "sample_density = 150\n",
    "scale = sample_density/10 # How much to scale coordinates by..."
   ]
  },
  {
   "cell_type": "code",
   "execution_count": 6,
   "metadata": {},
   "outputs": [],
   "source": [
    "# Create dataset\n",
    "\n",
    "X = 10*np.random.random((n_points,dim))-5\n",
    "target = 1*(np.random.random((n_points,1))>0.5)"
   ]
  },
  {
   "cell_type": "code",
   "execution_count": 7,
   "metadata": {},
   "outputs": [
    {
     "data": {
      "application/vnd.jupyter.widget-view+json": {
       "model_id": "21380b8265ee4f59a733297c450a30ed",
       "version_major": 2,
       "version_minor": 0
      },
      "text/plain": [
       "VBox(children=(HBox(children=(Button(button_style='success', description='Train network', style=ButtonStyle())…"
      ]
     },
     "metadata": {},
     "output_type": "display_data"
    }
   ],
   "source": [
    "# Network graph\n",
    "hiddenLayerSizeSlider = intSlider(4,1,20,\"Hidden layer size\")\n",
    "network_graph = interactive(drawClassifierWithOneHiddenLayer,input_size=fixed(dim), hidden_size=hiddenLayerSizeSlider)\n",
    "output = network_graph.children[-1]\n",
    "output.layout.height = '300px'\n",
    "\n",
    "# Init\n",
    "w1s,b1s,w2s,b2s,es,acs = trainNetwork(X,target,hiddenLayerSizeSlider.value,alpha,n_iters)\n",
    "cs = makeFrames3D(w1s,b1s,w2s,b2s,es,acs,sample_density)\n",
    "traces = [go.Scatter(x = [t for t in range(n_iters)],y = w1s[:,i,j],mode = 'lines',name = '$w_{'+str(i)+','+str(j)+'}$',line = dict(width = 1)) for i in range(2) for j in range(hiddenLayerSizeSlider.value)]+\\\n",
    "    [go.Scatter(visible=False,x = [t for t in range(n_iters)],y=[],mode = 'lines',line = dict(width = 1)) for i in range(200)]\n",
    "\n",
    "# Histories\n",
    "vline_layout = go.Layout(autosize=False,width=600,height=400,shapes= [{'type': 'line','x0': 1,'y0': -2,'x1': 1,'y1': 2,'line': {'color': 'rgb(100,0,0)','width': 2}}])\n",
    "histories = go.FigureWidget(data=traces,layout=vline_layout)\n",
    "\n",
    "# Decision boundary plot\n",
    "data_x,data_y,data_z = (X.T+5)*scale\n",
    "classes = target[:,0]\n",
    "data_points = go.Scatter3d(x=data_x,y=data_y,z=data_z,mode='markers',\n",
    "    marker=dict(size=5,color=classes,colorscale='RdBu',cauto=False,cmin=-5,cmax=5,opacity=1.0,showscale=False))\n",
    "lin = np.linspace(-5,5,sample_density)\n",
    "grid = np.stack(np.meshgrid(lin,lin,lin),axis=-1).reshape(-1,3) # Inputs\n",
    "scatter_x,scatter_y,scatter_z = grid[:,0],grid[:,1],grid[:,2]\n",
    "scatter = go.Scatter3d(x = scatter_x,y=scatter_y,z=scatter_z,mode=\"markers\",marker=dict(size=1,color=1,opacity=0.2,showscale=False,colorscale=\"Viridis\"))\n",
    "data = [scatter,data_points]\n",
    "layout = go.Layout(\n",
    "    hovermode=False,\n",
    "    autosize=False,\n",
    "    width=500,\n",
    "    height=500,\n",
    "    title='',\n",
    "    scene=dict(\n",
    "        aspectmode = \"manual\",\n",
    "        aspectratio = dict(x = 1, y = 1, z = 1),\n",
    "        xaxis=dict(nticks=50,range=[-5,5],zerolinecolor='rgb(255,255,255)',showticklabels=False,showspikes=False),\n",
    "        yaxis=dict(nticks=50,range=[-5,5],zerolinecolor='rgb(255,255,255)',showticklabels= False,showspikes=False),\n",
    "        zaxis=dict(nticks=50,range=[-5,5],zerolinecolor='rgb(255,255,255)',showticklabels=False,showspikes=False)))\n",
    "dbPlot = go.FigureWidget(data=data,layout=layout)\n",
    "\n",
    "# Training button\n",
    "def onClick(b):\n",
    "    w1s,b1s,w2s,b2s,es,acs = trainNetwork(X,target,hiddenLayerSizeSlider.value,alpha,n_iters)\n",
    "    cs[:] = makeFrames3D(w1s,b1s,w2s,b2s,es,acs,sample_density)    \n",
    "    dbPlot.data[0].visible=False\n",
    "    dbPlot.data[0].x,dbPlot.data[0].y,dbPlot.data[0].z = cs[slider.value]\n",
    "    dbPlot.data[0].visible=True\n",
    "    for trace in histories.data:\n",
    "        trace.visible = False\n",
    "    idx = 0\n",
    "    for i in range(2): \n",
    "        for j in range(hiddenLayerSizeSlider.value):\n",
    "            histories.data[idx].y = w1s[:,i,j]\n",
    "            histories.data[idx].name = '$w_{'+str(i)+','+str(j)+'}$'\n",
    "            idx += 1\n",
    "    idx = 0\n",
    "    for i in range(2): \n",
    "        for j in range(hiddenLayerSizeSlider.value):\n",
    "            histories.data[idx].visible=True\n",
    "            idx += 1\n",
    "train = makeButton(\"Train network\",onClick)\n",
    "\n",
    "# Animated slider\n",
    "def update(t):\n",
    "    dbPlot.data[0].visible=False\n",
    "    dbPlot.data[0].x,dbPlot.data[0].y,dbPlot.data[0].z = cs[t]\n",
    "    dbPlot.data[0].visible=True\n",
    "    dbPlot.layout.title = 'Decision boundary: # correct ='+str(acs[t])+'/'+str(n_points)\n",
    "    histories.layout.shapes[0].x0=t\n",
    "    histories.layout.shapes[0].x1=t\n",
    "play,slider = playSlider(\"Animate training\",n_iters)\n",
    "slidey = interactive(update,t=slider)\n",
    "\n",
    "#Display\n",
    "player = HBox([play,slidey])\n",
    "player.layoutjustify_content = 'center'\n",
    "VBox([HBox([train,network_graph]),player,HBox([dbPlot,histories])])"
   ]
  },
  {
   "cell_type": "code",
   "execution_count": null,
   "metadata": {},
   "outputs": [],
   "source": []
  }
 ],
 "metadata": {
  "kernelspec": {
   "display_name": "Python 3",
   "language": "python",
   "name": "python3"
  },
  "language_info": {
   "codemirror_mode": {
    "name": "ipython",
    "version": 3
   },
   "file_extension": ".py",
   "mimetype": "text/x-python",
   "name": "python",
   "nbconvert_exporter": "python",
   "pygments_lexer": "ipython3",
   "version": "3.6.5"
  }
 },
 "nbformat": 4,
 "nbformat_minor": 2
}
