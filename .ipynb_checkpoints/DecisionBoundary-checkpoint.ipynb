{
 "cells": [
  {
   "cell_type": "code",
   "execution_count": 1,
   "metadata": {},
   "outputs": [],
   "source": [
    "import ipywidgets as widgets\n",
    "from IPython.display import display\n",
    "from __future__ import print_function\n",
    "from ipywidgets import interact, interactive, fixed, interact_manual, HBox, VBox\n",
    "import matplotlib.pyplot as plt\n",
    "from mpl_toolkits.mplot3d import Axes3D\n",
    "import numpy as np\n",
    "import networkx as nx\n",
    "#import  plotly.plotly as py\n",
    "import plotly.offline as py\n",
    "import plotly.graph_objs as go\n",
    "%matplotlib inline"
   ]
  },
  {
   "cell_type": "code",
   "execution_count": 2,
   "metadata": {},
   "outputs": [],
   "source": [
    "def networkNodePositions(layer_sizes):\n",
    "    n_layers = len(layer_sizes)\n",
    "    node_pos = []\n",
    "    for j in range(n_layers):\n",
    "        layer_size = layer_sizes[j]\n",
    "        node_pos += [((i+1)/(layer_size+1),j) for i in range(layer_size)]\n",
    "    return node_pos,len(node_pos)\n",
    "\n",
    "def fullyConnectedEdges(layer_sizes):\n",
    "    n_layers = len(layer_sizes)\n",
    "    sep_idx = [0]+list(np.cumsum(layer_sizes))\n",
    "    edges = []\n",
    "    for i in range(n_layers-1):\n",
    "        idx1,idx2,idx3 = sep_idx[i:i+3]\n",
    "        edges += [(j,k) for j in range(idx1,idx2) for k in range(idx2,idx3)]\n",
    "    return edges\n",
    "\n",
    "def drawNetWithHiddenLayer(m):\n",
    "    layers = [3,m,1]\n",
    "    node_positions,n_nodes=networkNodePositions(layers)\n",
    "    nodes = [node for node in range(n_nodes)]\n",
    "    edges = fullyConnectedEdges(layers)\n",
    "    G = nx.Graph()\n",
    "    G.add_nodes_from(nodes)\n",
    "    G.add_edges_from(edges)\n",
    "    nx.draw_networkx_nodes(G, node_positions, node_size=30, nodelist=[i for i in range(n_nodes)],node_color=\"blue\")\n",
    "    nx.draw_networkx_edges(G, node_positions, edges, alpha=1.0, width=1)\n",
    "    plt.figure(1)\n",
    "    plt.axis('off')\n",
    "    plt.show()\n",
    "    \n",
    "def realDelaySlider(value,mini,maxi,step,name):\n",
    "    return widgets.FloatSlider(value=value,min=mini,max=maxi,step=step,description=name,continuous_update=False)\n",
    "    \n",
    "    \n",
    "\n"
   ]
  },
  {
   "cell_type": "code",
   "execution_count": 3,
   "metadata": {},
   "outputs": [
    {
     "data": {
      "application/vnd.jupyter.widget-view+json": {
       "model_id": "35606a47f1964b109f2486e6e8dcc55c",
       "version_major": 2,
       "version_minor": 0
      },
      "text/plain": [
       "interactive(children=(IntSlider(value=4, continuous_update=False, description='Hidden layer size', max=20, min…"
      ]
     },
     "metadata": {},
     "output_type": "display_data"
    }
   ],
   "source": [
    "# Classifier with one hidden layer of variable size\n",
    "\n",
    "hiddenLayerSizeSlider = widgets.IntSlider(\n",
    "    value=4,\n",
    "    min=1,\n",
    "    max=20,\n",
    "    step=1,\n",
    "    description='Hidden layer size',\n",
    "    disabled=False,\n",
    "    continuous_update=False,\n",
    "    orientation='horizontal',\n",
    "    readout=True,\n",
    "    readout_format='d')\n",
    "\n",
    "interactive_network = interactive(drawNetWithHiddenLayer, m=hiddenLayerSizeSlider)\n",
    "output = interactive_network.children[-1]\n",
    "output.layout.height = '400px'\n",
    "display(interactive_network)"
   ]
  },
  {
   "cell_type": "code",
   "execution_count": 4,
   "metadata": {},
   "outputs": [
    {
     "data": {
      "application/vnd.jupyter.widget-view+json": {
       "model_id": "c616415a1da745f18600f051ea14483d",
       "version_major": 2,
       "version_minor": 0
      },
      "text/plain": [
       "interactive(children=(FloatSlider(value=1.0, continuous_update=False, description='w1', max=5.0, min=-5.0), Fl…"
      ]
     },
     "metadata": {},
     "output_type": "display_data"
    }
   ],
   "source": [
    "# Line\n",
    "\n",
    "def line(w1,w2, b):\n",
    "    if w1 != 0.0 or w2 != 0:\n",
    "        plt.figure(2)\n",
    "        t = np.linspace(-250, 250, num=100)\n",
    "        x = w2*t-(w1*b)/(w1**2+w2**2)\n",
    "        y = -w1*t-(w2*b)/(w1**2+w2**2)\n",
    "        #x = (w2*t-w1*b)/(w1**2+w2**2)\n",
    "        #y = -(w1*t+w2*b)/(w1**2+w2**2)\n",
    "        plt.plot(x,y)\n",
    "        plt.xlim(-25,25)\n",
    "        plt.ylim(-25, 25)\n",
    "        plt.show()\n",
    "    else:\n",
    "        print(\"Weights cannot both be zero!!!\")\n",
    "\n",
    "w1Slider=realDelaySlider(1,-5,5,0.1,'w1')\n",
    "w2Slider=realDelaySlider(1,-5,5,0.1,'w2')\n",
    "bSlider=realDelaySlider(0,-20,20,0.1,'b')\n",
    "\n",
    "interactive_plot = interactive(line, w1=w1Slider,w2=w2Slider, b=bSlider)\n",
    "output = interactive_plot.children[-1]\n",
    "output.layout.height = '350px'\n",
    "interactive_plot"
   ]
  },
  {
   "cell_type": "code",
   "execution_count": 33,
   "metadata": {},
   "outputs": [
    {
     "data": {
      "application/vnd.jupyter.widget-view+json": {
       "model_id": "81ee79508f4e4e068a7dd01937eabf7b",
       "version_major": 2,
       "version_minor": 0
      },
      "text/plain": [
       "HBox(children=(FigureWidget({\n",
       "    'data': [{'cauto': False,\n",
       "              'cmax': 5,\n",
       "              'cmin': -5,…"
      ]
     },
     "metadata": {},
     "output_type": "display_data"
    }
   ],
   "source": [
    "# Plane\n",
    "\n",
    "# Init plane\n",
    "s = np.linspace(-100,100,50)\n",
    "t = np.linspace(-100,100,50)\n",
    "tGrid, sGrid = np.meshgrid(s, t)\n",
    "x = -sGrid\n",
    "y = -tGrid  \n",
    "z = sGrid   \n",
    "\n",
    "# Init scatter\n",
    "n_points = 20\n",
    "scatter_x = 10*np.random.rand(n_points)-5\n",
    "scatter_y = 10*np.random.rand(n_points)-5\n",
    "scatter_z = 10*np.random.rand(n_points)-5\n",
    "\n",
    "# Init plot\n",
    "surface = go.Surface(x=x, y=y, z=z,showscale=False,colorscale=\"Viridis\",cauto=False,cmin=-5,cmax=5,opacity=0.5)\n",
    "scatter = go.Scatter3d(x=scatter_x,y=scatter_y,z=scatter_z,mode='markers',\n",
    "    marker=dict(size=2,color=scatter_z+scatter_y+scatter_z,colorscale='RdBu',cauto=False,cmin=-5,cmax=5,opacity=1.0))\n",
    "data = [surface,scatter]\n",
    "layout = go.Layout(\n",
    "    hovermode=False,\n",
    "    autosize=False,\n",
    "    width=600,\n",
    "    height=600,\n",
    "    title='Parametric Plot',\n",
    "    scene=dict(\n",
    "        aspectmode = \"manual\",\n",
    "        aspectratio = dict(x = 1, y = 1, z = 1),\n",
    "        xaxis=dict(nticks=50,range=[-5,5],zerolinecolor='rgb(255,255,255)',showticklabels=False,showspikes=False),\n",
    "        yaxis=dict(nticks=50,range=[-5,5],zerolinecolor='rgb(255,255,255)',showticklabels= False,showspikes=False),\n",
    "        zaxis=dict(nticks=50,range=[-5,5],zerolinecolor='rgb(255,255,255)',showticklabels=False,showspikes=False)))\n",
    "f = go.FigureWidget(data=data, layout=layout)\n",
    "\n",
    "# Update function for slider\n",
    "def update(w1,w2,w3,b):\n",
    "    w_sq_len = w1**2+w2**2+w3**2\n",
    "    f.data[0].x = -w3*sGrid-w1*b/w_sq_len \n",
    "    f.data[0].y = -w3*tGrid-w2*b/w_sq_len  \n",
    "    f.data[0].z = w1*sGrid+w2*tGrid-w3*b/w_sq_len               \n",
    "    \n",
    "# Sliders\n",
    "w1=realDelaySlider(1,-5,5,0.1,'w1')\n",
    "w2=realDelaySlider(1,-5,5,0.1,'w2')\n",
    "w3=realDelaySlider(1,-5,5,0.1,'w3')\n",
    "b=realDelaySlider(0,-10,10,0.2,'b')\n",
    "\n",
    "# Display\n",
    "freq_slider = interactive(update, w1=w1,w2=w2,w3=w3,b=b)\n",
    "vb = HBox((f, freq_slider))\n",
    "vb.layout.align_items = 'center'\n",
    "vb"
   ]
  },
  {
   "cell_type": "code",
   "execution_count": null,
   "metadata": {},
   "outputs": [],
   "source": []
  }
 ],
 "metadata": {
  "kernelspec": {
   "display_name": "Python 3",
   "language": "python",
   "name": "python3"
  },
  "language_info": {
   "codemirror_mode": {
    "name": "ipython",
    "version": 3
   },
   "file_extension": ".py",
   "mimetype": "text/x-python",
   "name": "python",
   "nbconvert_exporter": "python",
   "pygments_lexer": "ipython3",
   "version": "3.6.5"
  }
 },
 "nbformat": 4,
 "nbformat_minor": 2
}
