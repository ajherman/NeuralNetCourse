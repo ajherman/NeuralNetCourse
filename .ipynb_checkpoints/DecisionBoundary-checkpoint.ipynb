{
 "cells": [
  {
   "cell_type": "code",
   "execution_count": 1,
   "metadata": {},
   "outputs": [],
   "source": [
    "from AuxFun import *"
   ]
  },
  {
   "cell_type": "code",
   "execution_count": 2,
   "metadata": {},
   "outputs": [
    {
     "data": {
      "application/vnd.jupyter.widget-view+json": {
       "model_id": "e9d65dfe83ad48518710acf737b1c120",
       "version_major": 2,
       "version_minor": 0
      },
      "text/plain": [
       "interactive(children=(Dropdown(description='input_size', options=(2, 3), value=2), IntSlider(value=4, continuo…"
      ]
     },
     "metadata": {},
     "output_type": "display_data"
    }
   ],
   "source": [
    "# Classifier with one hidden layer of variable size\n",
    "\n",
    "hiddenLayerSizeSlider = intSlider(4,1,20,\"Hidden layer size\")\n",
    "\n",
    "interactive_network = interactive(drawClassifierWithOneHiddenLayer,input_size=[2,3], hidden_size=hiddenLayerSizeSlider)\n",
    "output = interactive_network.children[-1]\n",
    "output.layout.height = '400px'\n",
    "display(interactive_network)"
   ]
  },
  {
   "cell_type": "code",
   "execution_count": 3,
   "metadata": {},
   "outputs": [
    {
     "data": {
      "application/vnd.jupyter.widget-view+json": {
       "model_id": "4094fd2da7cf4f95bda504f820b4f4de",
       "version_major": 2,
       "version_minor": 0
      },
      "text/plain": [
       "interactive(children=(Dropdown(description='input_size', options=(2, 3), value=2), IntSlider(value=4, continuo…"
      ]
     },
     "metadata": {},
     "output_type": "display_data"
    }
   ],
   "source": [
    "# Classifier with one hidden layer of variable size\n",
    "\n",
    "hiddenLayer1SizeSlider = intSlider(4,1,20,\"Hidden layer 1 size\")\n",
    "hiddenLayer2SizeSlider = intSlider(4,1,20,\"Hidden layer 2 size\")\n",
    "\n",
    "interactive_network = interactive(drawClassifierWithTwoHiddenLayers,input_size=[2,3],hidden1_size=hiddenLayer1SizeSlider,hidden2_size=hiddenLayer2SizeSlider)\n",
    "output = interactive_network.children[-1]\n",
    "output.layout.height = '400px'\n",
    "display(interactive_network)"
   ]
  },
  {
   "cell_type": "code",
   "execution_count": 9,
   "metadata": {},
   "outputs": [
    {
     "data": {
      "application/vnd.jupyter.widget-view+json": {
       "model_id": "5d3d678482b04305a71545a791216c2d",
       "version_major": 2,
       "version_minor": 0
      },
      "text/plain": [
       "Box(children=(HBox(children=(VBox(children=(Button(description='0', layout=Layout(height='35px', width='50px')…"
      ]
     },
     "metadata": {},
     "output_type": "display_data"
    }
   ],
   "source": [
    "\n",
    "\n",
    "\n",
    "\n",
    "#VBox([TextBoxGrid(1,4,\"b_1\"),TextBoxGrid(2,3,\"w_1\"),TextBoxGrid(5,2,'w_2')],layout=Layout(height='300px',justify_content='space-between'))\n",
    "Box([ButtonGrid(1,4,\"b_1\"),ButtonGrid(2,3,\"w_1\"),ButtonGrid(5,2,'w_2')],layout=Layout(display='flex',flex_flow='column',height='350px',justify_content='space-between'))\n"
   ]
  },
  {
   "cell_type": "code",
   "execution_count": 10,
   "metadata": {},
   "outputs": [],
   "source": [
    "# Train network example\n",
    "\n",
    "# Parameters\n",
    "n,m,alpha,nitrs = 15,10,0.1,1000\n",
    "\n",
    "# Data\n",
    "X = 10*np.random.random((m,2))-5\n",
    "target = 1*(np.random.random((m,1))>0.5)\n",
    "\n",
    "w1s,b1s,w2s,b2s,es,acs = trainNetwork(X,target,n,m,alpha,nitrs)\n",
    "\n",
    "# Create traces\n",
    "traces = []\n",
    "for i in range(2):\n",
    "    for j in range(n):\n",
    "        trace = go.Scatter(\n",
    "            x = [t for t in range(nitrs)],\n",
    "            y = w1s[:,i,j],\n",
    "            mode = 'lines',\n",
    "            name = 'w1_'+str(i)+str(j),\n",
    "            line = dict(\n",
    "            color = ('rgba(255,255,255,0.0)'),\n",
    "            width = 2)\n",
    "        )\n",
    "        traces.append(trace)\n",
    "    \n",
    "traces[0].line.color = 'rgb(100,200,150)'\n",
    "\n",
    "fff = go.FigureWidget(data=traces)\n",
    "\n",
    "def highlight(b):\n",
    "    i,j = b.description[1:].split(',')\n",
    "    i,j = int(i),int(j)\n",
    "    for datum in fff.data:\n",
    "        datum.line.color = 'rgba(250,250,250,0.0)'\n",
    "    fff.data[2*i+j].line.color = 'rgb(100,200,150)'\n",
    "\n",
    "# Array of buttons\n",
    "button_grid = np.array([[Button(description='w'+str(i)+','+str(j),layout=Layout(width='50px', height='35px')) for j in range(n)] for i in range(2)],dtype='object')\n",
    "\n",
    "for i in range(2):\n",
    "    for j in range(n):\n",
    "        button_grid[i,j].on_click(highlight)\n",
    "\n",
    "# Create display\n",
    "columns = [VBox([button_grid[j,i] for j in range(2)]) for i in range(n)]\n",
    "buttons = HBox(columns)\n",
    "graph = VBox((buttons,fff))\n",
    "\n",
    "\n",
    "# Decision boundary v.2 using plotly heatmap\n",
    "\n",
    "N = 300 \n",
    "scale = N/10 # How much to scale coordinates by...\n",
    "\n",
    "# Data points\n",
    "data_x,data_y = (X.T+5)*scale\n",
    "classes = target[:,0]\n",
    "\n",
    "data_points = go.Scatter(x=data_x,y=data_y,mode='markers',marker=dict(\n",
    "        size=5,\n",
    "        color = classes, \n",
    "        colorscale='RdBu',\n",
    "        showscale=False))\n",
    "\n",
    "# Classifier values\n",
    "lin = np.linspace(-5,5,N)\n",
    "grid = np.stack(np.meshgrid(lin,lin),axis=-1).reshape(-1,2) # Inputs\n",
    "scatter_x,scatter_y = grid[:,0],grid[:,1]\n",
    "scatter_color = np.random.random(np.shape(scatter_x))-0.5\n",
    "heatmap = go.Heatmap(z=np.random.random((N,N)),showscale=False,colorscale=\"Viridis\")\n",
    "\n",
    "data = [heatmap,data_points]\n",
    "layout = go.Layout(\n",
    "    autosize=False,\n",
    "    width=400,\n",
    "    height=400,\n",
    "    title='Decision boundary  Correct: '+str(acs[0])+'/'+str(m),\n",
    "    scene=dict(\n",
    "        aspectmode = \"manual\",\n",
    "        aspectratio = dict(x = 1, y = 1),\n",
    "        xaxis=dict(nticks=50,range=[-5,5],showticklabels=False),\n",
    "        yaxis=dict(nticks=50,range=[-5,5],showticklabels= False)))\n",
    "ff = go.FigureWidget(data=data,layout=layout)\n",
    "\n",
    "def update(t):\n",
    "    w1 = w1s[t]\n",
    "    b1 = b1s[t]\n",
    "    w2 = w2s[t]\n",
    "    b2 = b2s[t]\n",
    "    lin = np.linspace(-5,5,N)\n",
    "    grid = np.stack(np.meshgrid(lin,lin),axis=-1).reshape(-1,2) # Inputs\n",
    "    a = np.dot(grid,w1)+b1 \n",
    "    y = sigma(a) # Hidden layer activity\n",
    "    b = np.dot(y,w2)+b2\n",
    "    z = sigma(b) # Output activity\n",
    "    c = 1*(z<0.5).reshape(N,N)\n",
    "    ff.data[0].z = c\n",
    "    ff.layout.title = 'Decision boundary: # correct ='+str(acs[t])+'/'+str(m)\n",
    "    \n",
    "\n",
    "play = widgets.Play(\n",
    "    value=0,\n",
    "    min=0,\n",
    "    max=nitrs-1,\n",
    "    step=1,\n",
    "    description=\"Animate training\",\n",
    "    disabled=False\n",
    ")\n",
    "    \n",
    "tSlider=intSlider(0,0,nitrs-1,\"time\",continuous=True)\n",
    "\n",
    "widgets.jslink((play, 'value'), (tSlider, 'value'))\n",
    "widgets.HBox([play, tSlider])\n",
    "\n",
    "# Display\n",
    "slidey = interactive(update,t=tSlider)\n",
    "vc = HBox((ff,play,slidey))\n",
    "vc.layout.align_items = 'center'\n",
    "VBox((vc,graph))\n",
    "\n",
    "\n",
    "# create our callback function\n",
    "def update_point(trace, points, selector):\n",
    "    c = list(scatter.marker.color)\n",
    "    s = list(scatter.marker.size)\n",
    "    for i in points.point_inds:\n",
    "        c[i] = '#bae2be'\n",
    "        s[i] = 20\n",
    "        scatter.marker.color = c\n",
    "        scatter.marker.size = s\n",
    "\n",
    "scatter.on_click(update_point)"
   ]
  },
  {
   "cell_type": "code",
   "execution_count": null,
   "metadata": {},
   "outputs": [],
   "source": [
    "\n"
   ]
  }
 ],
 "metadata": {
  "kernelspec": {
   "display_name": "Python 3",
   "language": "python",
   "name": "python3"
  },
  "language_info": {
   "codemirror_mode": {
    "name": "ipython",
    "version": 3
   },
   "file_extension": ".py",
   "mimetype": "text/x-python",
   "name": "python",
   "nbconvert_exporter": "python",
   "pygments_lexer": "ipython3",
   "version": "3.6.5"
  }
 },
 "nbformat": 4,
 "nbformat_minor": 2
}
