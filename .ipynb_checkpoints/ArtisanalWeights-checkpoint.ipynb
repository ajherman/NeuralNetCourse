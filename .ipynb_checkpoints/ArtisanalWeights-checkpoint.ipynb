{
 "cells": [
  {
   "cell_type": "code",
   "execution_count": 1,
   "metadata": {},
   "outputs": [],
   "source": [
    "from AuxFun import *"
   ]
  },
  {
   "cell_type": "raw",
   "metadata": {},
   "source": [
    "*** 2D linear ***"
   ]
  },
  {
   "cell_type": "code",
   "execution_count": 2,
   "metadata": {},
   "outputs": [
    {
     "data": {
      "application/vnd.jupyter.widget-view+json": {
       "model_id": "ace4179abcb64de98c567cc4252bbba9",
       "version_major": 2,
       "version_minor": 0
      },
      "text/plain": [
       "interactive(children=(FloatSlider(value=1.0, continuous_update=False, description='w1', max=5.0, min=-5.0), Fl…"
      ]
     },
     "metadata": {},
     "output_type": "display_data"
    }
   ],
   "source": [
    "# Line\n",
    "\n",
    "def line(w1,w2, b):\n",
    "    if w1 != 0.0 or w2 != 0:\n",
    "        plt.figure(0)\n",
    "        t = np.linspace(-250, 250, num=100)\n",
    "        x = w2*t-(w1*b)/(w1**2+w2**2)\n",
    "        y = -w1*t-(w2*b)/(w1**2+w2**2)\n",
    "        plt.title('Decision boundary')\n",
    "        plt.plot(x,y)\n",
    "        plt.xlim(-25,25)\n",
    "        plt.ylim(-25, 25)\n",
    "        plt.show()\n",
    "    else:\n",
    "        print(\"Weights cannot both be zero!!!\")\n",
    "\n",
    "w1Slider=floatSlider(1,-5,5,0.1,'w1')\n",
    "w2Slider=floatSlider(1,-5,5,0.1,'w2')\n",
    "bSlider=floatSlider(0,-20,20,0.1,'b')\n",
    "\n",
    "interactive_plot = interactive(line, w1=w1Slider,w2=w2Slider, b=bSlider)\n",
    "output = interactive_plot.children[-1]\n",
    "output.layout.height = '350px'\n",
    "interactive_plot"
   ]
  },
  {
   "cell_type": "markdown",
   "metadata": {},
   "source": [
    "*** 3D linear ***"
   ]
  },
  {
   "cell_type": "code",
   "execution_count": 3,
   "metadata": {},
   "outputs": [
    {
     "data": {
      "application/vnd.jupyter.widget-view+json": {
       "model_id": "e45a73db021140209fee1ad207686aa9",
       "version_major": 2,
       "version_minor": 0
      },
      "text/plain": [
       "HBox(children=(FigureWidget({\n",
       "    'data': [{'cauto': False,\n",
       "              'cmax': 5,\n",
       "              'cmin': -5,…"
      ]
     },
     "metadata": {},
     "output_type": "display_data"
    }
   ],
   "source": [
    "# Plane\n",
    "\n",
    "# Init plane\n",
    "s = np.linspace(-100,100,50)\n",
    "t = np.linspace(-100,100,50)\n",
    "tGrid, sGrid = np.meshgrid(s, t)\n",
    "x = -sGrid\n",
    "y = -tGrid  \n",
    "z = sGrid   \n",
    "\n",
    "# Init scatter\n",
    "n_points = 20\n",
    "scatter_x = 10*np.random.rand(n_points)-5\n",
    "scatter_y = 10*np.random.rand(n_points)-5\n",
    "scatter_z = 10*np.random.rand(n_points)-5\n",
    "\n",
    "# Init plot\n",
    "surface = go.Surface(x=x, y=y, z=z,showscale=False,colorscale=\"Viridis\",cauto=False,cmin=-5,cmax=5,opacity=0.5)\n",
    "scatter = go.Scatter3d(x=scatter_x,y=scatter_y,z=scatter_z,mode='markers',\n",
    "    marker=dict(size=2,color=scatter_z+scatter_y+scatter_z,colorscale='RdBu',cauto=False,cmin=-5,cmax=5,opacity=1.0))\n",
    "data = [surface,scatter]\n",
    "layout = go.Layout(\n",
    "    hovermode=False,\n",
    "    autosize=False,\n",
    "    width=600,\n",
    "    height=600,\n",
    "    title='Parametric Plot',\n",
    "    scene=dict(\n",
    "        aspectmode = \"manual\",\n",
    "        aspectratio = dict(x = 1, y = 1, z = 1),\n",
    "        xaxis=dict(nticks=50,range=[-5,5],zerolinecolor='rgb(255,255,255)',showticklabels=False,showspikes=False),\n",
    "        yaxis=dict(nticks=50,range=[-5,5],zerolinecolor='rgb(255,255,255)',showticklabels= False,showspikes=False),\n",
    "        zaxis=dict(nticks=50,range=[-5,5],zerolinecolor='rgb(255,255,255)',showticklabels=False,showspikes=False)))\n",
    "f0 = go.FigureWidget(data=data, layout=layout)\n",
    "\n",
    "# Update function for slider\n",
    "def update(w1,w2,w3,b):\n",
    "    w_sq_len = w1**2+w2**2+w3**2\n",
    "    f0.data[0].x = -w3*sGrid-w1*b/w_sq_len \n",
    "    f0.data[0].y = -w3*tGrid-w2*b/w_sq_len  \n",
    "    f0.data[0].z = w1*sGrid+w2*tGrid-w3*b/w_sq_len               \n",
    "    \n",
    "# Sliders\n",
    "w1=floatSlider(1,-5,5,0.1,'w1')\n",
    "w2=floatSlider(1,-5,5,0.1,'w2')\n",
    "w3=floatSlider(1,-5,5,0.1,'w3')\n",
    "b=floatSlider(0,-10,10,0.2,'b')\n",
    "\n",
    "# Display\n",
    "freq_slider = interactive(update, w1=w1,w2=w2,w3=w3,b=b)\n",
    "vb = HBox((f0, freq_slider))\n",
    "vb.layout.align_items = 'center'\n",
    "vb"
   ]
  },
  {
   "cell_type": "markdown",
   "metadata": {},
   "source": [
    "*** 2D Nonlinear ***"
   ]
  },
  {
   "cell_type": "code",
   "execution_count": 8,
   "metadata": {},
   "outputs": [
    {
     "data": {
      "application/vnd.jupyter.widget-view+json": {
       "model_id": "ed4136edeac945fa85296deb31bbb48e",
       "version_major": 2,
       "version_minor": 0
      },
      "text/plain": [
       "interactive(children=(FloatSlider(value=0.1, continuous_update=False, description='w00', max=1.0, min=-1.0), F…"
      ]
     },
     "metadata": {},
     "output_type": "display_data"
    }
   ],
   "source": [
    "# Matplotlib scatter 2D\n",
    "\n",
    "N = 400\n",
    "method = 'scatter' # 'scatter' or 'imshow'\n",
    "\n",
    "def update(w00,w01,w02,w10,w11,w12,b0,b1,b2,v0,v1,v2):\n",
    "    plt.figure(1)\n",
    "    V = np.array([[v0],[v1],[v2]]) # Second weight matrix\n",
    "    b = np.array([[b0,b1,b2]]) # Bias\n",
    "    W = np.array([[w00,w01,w02],[w10,w11,w12]]) # First weight matrix\n",
    "    lin = np.linspace(-5,5,N)\n",
    "    x = np.stack(np.meshgrid(lin,lin),axis=-1).reshape(-1,2) # Inputs\n",
    "    y = np.tanh(np.dot(x,W)+b)\n",
    "    z = np.dot(y,V).reshape(-1)\n",
    "    \n",
    "    if method == 'scatter':\n",
    "        idx1 = np.where(z>0)[0]\n",
    "        idx2 = np.where(z<0)[0]\n",
    "        x1,x2 = x[idx1],x[idx2]\n",
    "        plt.title('Decision boundary')\n",
    "        plt.scatter(x1[:,0],x1[:,1],s=0.5,color=\"red\")\n",
    "        plt.scatter(x2[:,0],x2[:,1],s=0.5,color=\"blue\")    \n",
    "        plt.scatter([-2,-2,2,2],[-2,2,-2,2],s=20,color=\"black\",marker=\"+\")\n",
    "    if method == 'imshow':\n",
    "        c = 1*(z<0).reshape(N,N)\n",
    "        plt.imshow(c)\n",
    "    plt.show()\n",
    "\n",
    "# Sliders\n",
    "w00=floatSlider(0.1,-1,1,0.1,'w00')\n",
    "w10=floatSlider(0.1,-1,1,0.1,'w10')\n",
    "w01=floatSlider(0.2,-1,1,0.1,'w01')\n",
    "w11=floatSlider(-0.2,-1,1,0.1,'w11')\n",
    "w02=floatSlider(-0.1,-1,1,0.1,'w02')\n",
    "w12=floatSlider(-0.1,-1,1,0.1,'w12')\n",
    "b0=floatSlider(0.3,-1,1,0.1,'b0')\n",
    "b1=floatSlider(-0.3,-1,1,0.1,'b1')\n",
    "b2=floatSlider(-0.3,-1,1,0.1,'b2')\n",
    "v0=floatSlider(-0.1,-1,1,0.1,'v0')\n",
    "v1=floatSlider(0.1,-1,1,0.1,'v1')\n",
    "v2=floatSlider(0.1,-1,1,0.1,'v2')\n",
    "\n",
    "# Display\n",
    "slidey = interactive(update,w00=w00,w01=w01,w02=w02,w10=w10,w11=w11,w12=w12,b0=b0,b1=b1,b2=b2,v0=v0,v1=v1,v2=v2)\n",
    "slidey"
   ]
  },
  {
   "cell_type": "code",
   "execution_count": 5,
   "metadata": {},
   "outputs": [
    {
     "data": {
      "application/vnd.jupyter.widget-view+json": {
       "model_id": "5a30c87ce8c64e13bc340d0ac9ed8d2e",
       "version_major": 2,
       "version_minor": 0
      },
      "text/plain": [
       "HBox(children=(FigureWidget({\n",
       "    'data': [{'colorscale': 'Viridis',\n",
       "              'showscale': False,\n",
       "       …"
      ]
     },
     "metadata": {},
     "output_type": "display_data"
    }
   ],
   "source": [
    "# Plotly scatterplot 2d\n",
    "\n",
    "# Decision boundary v.2 using plotly heatmap\n",
    "\n",
    "N = 500 \n",
    "lin = np.linspace(-5,5,N)\n",
    "grid = np.stack(np.meshgrid(lin,lin),axis=-1).reshape(-1,2) # Inputs\n",
    "scatter_x,scatter_y = grid[:,0],grid[:,1]\n",
    "scatter_color = np.random.random(np.shape(scatter_x))-0.5\n",
    "heatmap = go.Heatmap(z=np.random.random((N,N)),showscale=False,colorscale=\"Viridis\")\n",
    "data = [heatmap]\n",
    "layout = go.Layout(\n",
    "    autosize=False,\n",
    "    width=400,\n",
    "    height=400,\n",
    "    title='Decision boundary',\n",
    "    scene=dict(\n",
    "        aspectmode = \"manual\",\n",
    "        aspectratio = dict(x = 1, y = 1),\n",
    "        xaxis=dict(nticks=50,range=[-5,5],showticklabels=False),\n",
    "        yaxis=dict(nticks=50,range=[-5,5],showticklabels= False)))\n",
    "f1 = go.FigureWidget(data=data,layout=layout)\n",
    "\n",
    "def update(w00,w01,w02,w10,w11,w12,b0,b1,b2,v0,v1,v2):\n",
    "    V = np.array([[v0],[v1],[v2]]) # Second weight matrix\n",
    "    b = np.array([[b0,b1,b2]]) # Bias\n",
    "    W = np.array([[w00,w01,w02],[w10,w11,w12]]) # First weight matrix\n",
    "    lin = np.linspace(-5,5,N)\n",
    "    x = np.stack(np.meshgrid(lin,lin),axis=-1).reshape(-1,2) # Inputs\n",
    "    y = np.tanh(np.dot(x,W)+b)\n",
    "    z = np.dot(y,V).reshape(-1)\n",
    "    c = 1*(z<0).reshape(N,N)\n",
    "    f1.data[0].z = c\n",
    "\n",
    "\n",
    "# Sliders\n",
    "w00=floatSlider(0.1,-1,1,0.1,'w00')\n",
    "w01=floatSlider(0.1,-1,1,0.1,'w01')\n",
    "w02=floatSlider(0.2,-1,1,0.1,'w02')\n",
    "w10=floatSlider(-0.2,-1,1,0.1,'w10')\n",
    "w11=floatSlider(-0.1,-1,1,0.1,'w11')\n",
    "w12=floatSlider(-0.1,-1,1,0.1,'w12')\n",
    "b0=floatSlider(0.3,-1,1,0.1,'b0')\n",
    "b1=floatSlider(-0.3,-1,1,0.1,'b1')\n",
    "b2=floatSlider(-0.3,-1,1,0.1,'b2')\n",
    "v0=floatSlider(-0.1,-1,1,0.1,'v0')\n",
    "v1=floatSlider(0.1,-1,1,0.1,'v1')\n",
    "v2=floatSlider(0.1,-1,1,0.1,'v2')\n",
    "\n",
    "# Display\n",
    "slidey = interactive(update,w00=w00,w01=w01,w02=w02,w10=w10,w11=w11,w12=w12,b0=b0,b1=b1,b2=b2,v0=v0,v1=v1,v2=v2)\n",
    "vc = HBox((f1, slidey))\n",
    "vc.layout.align_items = 'center'\n",
    "vc\n"
   ]
  },
  {
   "cell_type": "markdown",
   "metadata": {},
   "source": [
    "*** 3D nonlinear ***"
   ]
  },
  {
   "cell_type": "code",
   "execution_count": 9,
   "metadata": {},
   "outputs": [
    {
     "data": {
      "application/vnd.jupyter.widget-view+json": {
       "model_id": "cabe9d4c28684d759b9eadfbd4c84e2c",
       "version_major": 2,
       "version_minor": 0
      },
      "text/plain": [
       "HBox(children=(FigureWidget({\n",
       "    'data': [{'alphahull': 0,\n",
       "              'cmax': 5,\n",
       "              'cmin': -5,…"
      ]
     },
     "metadata": {},
     "output_type": "display_data"
    }
   ],
   "source": [
    "# Plotly scatterplot 3d\n",
    "\n",
    "N = 20\n",
    "lin = np.linspace(-5,5,N)\n",
    "grid = np.stack(np.meshgrid(lin,lin,lin),axis=-1).reshape(-1,3) # Inputs\n",
    "scatter_x,scatter_y,scatter_z = grid[:,0],grid[:,1],grid[:,2]\n",
    "scatter_color = 1 #= np.random.random(np.shape(scatter_x))\n",
    "scatter = go.Mesh3d(x = scatter_x,y=scatter_y,z=scatter_z,alphahull=0,opacity=0.2,colorscale='Viridis',cmin=-5,cmax=5)\n",
    "data = [scatter]\n",
    "layout = go.Layout(\n",
    "    hovermode=False,\n",
    "    autosize=False,\n",
    "    width=600,\n",
    "    height=600,\n",
    "    title='Parametric Plot',\n",
    "    scene=dict(\n",
    "        aspectmode = \"manual\",\n",
    "        aspectratio = dict(x = 1, y = 1, z = 1),\n",
    "        xaxis=dict(nticks=50,range=[-5,5],zerolinecolor='rgb(255,255,255)',showticklabels=False,showspikes=False),\n",
    "        yaxis=dict(nticks=50,range=[-5,5],zerolinecolor='rgb(255,255,255)',showticklabels= False,showspikes=False),\n",
    "        zaxis=dict(nticks=50,range=[-5,5],zerolinecolor='rgb(255,255,255)',showticklabels=False,showspikes=False)))\n",
    "f2 = go.FigureWidget(data=data,layout=layout)\n",
    "\n",
    "def update(w00,w01,w02,w10,w11,w12,w20,w21,w22,b0,b1,b2,v0,v1,v2):\n",
    "    V = np.array([[v0],[v1],[v2]]) # Second weight matrix\n",
    "    b = np.array([[b0,b1,b2]]) # Bias\n",
    "    W = np.array([[w00,w01,w02],[w10,w11,w12],[w20,w21,w22]]) # First weight matrix\n",
    "    x = grid\n",
    "    y = np.tanh(np.dot(x,W)+b)\n",
    "    z = np.dot(y,V).reshape(-1)\n",
    "    c = 1*(z<0).reshape(N,N,N)\n",
    "    d = np.zeros((N,N,N))\n",
    "    for ix in range(3):\n",
    "        for iy in range(3):\n",
    "            for iz in range(3):\n",
    "                d[1:N-1,1:N-1,1:N-1] += c[ix:N-2+ix,iy:N-2+iy,iz:N-2+iz]\n",
    "    d = (d>11)*(d<16)\n",
    "    idx = np.where(d.reshape(-1))[0]\n",
    "    scatter_x,scatter_y,scatter_z = x[idx].T\n",
    "    f2.data[0].x = scatter_x\n",
    "    f2.data[0].y = scatter_y\n",
    "    f2.data[0].z = scatter_z\n",
    "\n",
    "# Sliders\n",
    "w00=floatSlider(0.1,-1,1,0.1,'w00')\n",
    "w01=floatSlider(0.1,-1,1,0.1,'w01')\n",
    "w02=floatSlider(0.2,-1,1,0.1,'w02')\n",
    "w10=floatSlider(-0.2,-1,1,0.1,'w10')\n",
    "w11=floatSlider(-0.1,-1,1,0.1,'w11')\n",
    "w12=floatSlider(-0.1,-1,1,0.1,'w12')\n",
    "w20=floatSlider(-0.2,-1,1,0.1,'w20')\n",
    "w21=floatSlider(-0.1,-1,1,0.1,'w21')\n",
    "w22=floatSlider(-0.1,-1,1,0.1,'w22')\n",
    "b0=floatSlider(0.3,-1,1,0.1,'b0')\n",
    "b1=floatSlider(-0.3,-1,1,0.1,'b1')\n",
    "b2=floatSlider(-0.3,-1,1,0.1,'b2')\n",
    "v0=floatSlider(-0.1,-1,1,0.1,'v0')\n",
    "v1=floatSlider(0.1,-1,1,0.1,'v1')\n",
    "v2=floatSlider(0.1,-1,1,0.1,'v2')\n",
    "\n",
    "# Display\n",
    "slidey = interactive(update,w00=w00,w01=w01,w02=w02,w10=w10,w11=w11,w12=w12,w20=w20,w21=w21,w22=w22,b0=b0,b1=b1,b2=b2,v0=v0,v1=v1,v2=v2)\n",
    "vc = HBox((f2, slidey))\n",
    "vc.layout.align_items = 'center'\n",
    "vc"
   ]
  },
  {
   "cell_type": "code",
   "execution_count": 7,
   "metadata": {},
   "outputs": [
    {
     "data": {
      "application/vnd.jupyter.widget-view+json": {
       "model_id": "7913eafb842242e4829a6a44c8e23c80",
       "version_major": 2,
       "version_minor": 0
      },
      "text/plain": [
       "HBox(children=(FigureWidget({\n",
       "    'data': [{'marker': {'color': 1, 'colorscale': 'Viridis', 'opacity': 0.5, 's…"
      ]
     },
     "metadata": {},
     "output_type": "display_data"
    }
   ],
   "source": [
    "# Plotly scatterplot 3d\n",
    "\n",
    "N = 100\n",
    "lin = np.linspace(-5,5,N)\n",
    "grid = np.stack(np.meshgrid(lin,lin,lin),axis=-1).reshape(-1,3) # Inputs\n",
    "scatter_x,scatter_y,scatter_z = grid[:,0],grid[:,1],grid[:,2]\n",
    "scatter_color = 1\n",
    "scatter = go.Scatter3d(x = scatter_x,y=scatter_y,z=scatter_z,mode=\"markers\",marker=dict(size=1,color=scatter_color,opacity=0.5,showscale=False,colorscale=\"Viridis\"))\n",
    "data = [scatter]\n",
    "layout = go.Layout(\n",
    "    hovermode=False,\n",
    "    autosize=False,\n",
    "    width=500,\n",
    "    height=500,\n",
    "    title='Parametric Plot',\n",
    "    scene=dict(\n",
    "        aspectmode = \"manual\",\n",
    "        aspectratio = dict(x = 1, y = 1, z = 1),\n",
    "        xaxis=dict(nticks=50,range=[-5,5],zerolinecolor='rgb(255,255,255)',showticklabels=False,showspikes=False),\n",
    "        yaxis=dict(nticks=50,range=[-5,5],zerolinecolor='rgb(255,255,255)',showticklabels= False,showspikes=False),\n",
    "        zaxis=dict(nticks=50,range=[-5,5],zerolinecolor='rgb(255,255,255)',showticklabels=False,showspikes=False)))\n",
    "f3 = go.FigureWidget(data=data,layout=layout)\n",
    "\n",
    "def update(w00,w01,w02,w10,w11,w12,w20,w21,w22,b0,b1,b2,v0,v1,v2):\n",
    "    V = np.array([[v0],[v1],[v2]]) # Second weight matrix\n",
    "    b = np.array([[b0,b1,b2]]) # Bias\n",
    "    W = np.array([[w00,w01,w02],[w10,w11,w12],[w20,w21,w22]]) # First weight matrix\n",
    "    x = grid\n",
    "    y = np.tanh(np.dot(x,W)+b)\n",
    "    z = np.dot(y,V).reshape(-1)\n",
    "    c = 1*(z<0).reshape(N,N,N)\n",
    "    d = np.zeros((N,N,N))\n",
    "    for ix in range(3):\n",
    "        for iy in range(3):\n",
    "            for iz in range(3):\n",
    "                d[1:N-1,1:N-1,1:N-1] += c[ix:N-2+ix,iy:N-2+iy,iz:N-2+iz]\n",
    "    d = (d>6)*(d<21)\n",
    "    idx = np.where(d.reshape(-1))[0]\n",
    "    scatter_x,scatter_y,scatter_z = x[idx].T\n",
    "    f3.data[0].x = scatter_x\n",
    "    f3.data[0].y = scatter_y\n",
    "    f3.data[0].z = scatter_z\n",
    "    \n",
    "\n",
    "\n",
    "# Sliders\n",
    "w00=floatSlider(0.1,-1,1,0.1,'w00')\n",
    "w01=floatSlider(0.1,-1,1,0.1,'w01')\n",
    "w02=floatSlider(0.2,-1,1,0.1,'w02')\n",
    "w10=floatSlider(-0.2,-1,1,0.1,'w10')\n",
    "w11=floatSlider(-0.1,-1,1,0.1,'w11')\n",
    "w12=floatSlider(-0.1,-1,1,0.1,'w12')\n",
    "w20=floatSlider(-0.2,-1,1,0.1,'w20')\n",
    "w21=floatSlider(-0.1,-1,1,0.1,'w21')\n",
    "w22=floatSlider(-0.1,-1,1,0.1,'w22')\n",
    "b0=floatSlider(0.3,-1,1,0.1,'b0')\n",
    "b1=floatSlider(-0.3,-1,1,0.1,'b1')\n",
    "b2=floatSlider(-0.3,-1,1,0.1,'b2')\n",
    "v0=floatSlider(-0.1,-1,1,0.1,'v0')\n",
    "v1=floatSlider(0.1,-1,1,0.1,'v1')\n",
    "v2=floatSlider(0.1,-1,1,0.1,'v2')\n",
    "\n",
    "# Display\n",
    "slidey = interactive(update,w00=w00,w01=w01,w02=w02,w10=w10,w11=w11,w12=w12,w20=w20,w21=w21,w22=w22,b0=b0,b1=b1,b2=b2,v0=v0,v1=v1,v2=v2)\n",
    "vc = HBox((f3, slidey))\n",
    "vc.layout.align_items = 'center'\n",
    "vc\n"
   ]
  }
 ],
 "metadata": {
  "kernelspec": {
   "display_name": "Python 3",
   "language": "python",
   "name": "python3"
  },
  "language_info": {
   "codemirror_mode": {
    "name": "ipython",
    "version": 3
   },
   "file_extension": ".py",
   "mimetype": "text/x-python",
   "name": "python",
   "nbconvert_exporter": "python",
   "pygments_lexer": "ipython3",
   "version": "3.6.5"
  }
 },
 "nbformat": 4,
 "nbformat_minor": 2
}
