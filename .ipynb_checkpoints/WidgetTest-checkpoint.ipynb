{
 "cells": [
  {
   "cell_type": "code",
   "execution_count": 1,
   "metadata": {},
   "outputs": [],
   "source": [
    "import ipywidgets as widgets\n",
    "from IPython.display import display\n",
    "from __future__ import print_function\n",
    "from ipywidgets import interact, interactive, fixed, interact_manual\n",
    "import matplotlib.pyplot as plt\n",
    "import numpy as np\n",
    "import plotly.plotly as py\n",
    "import plotly.graph_objs as go\n",
    "import networkx as nx\n",
    "import random\n",
    "%matplotlib inline\n"
   ]
  },
  {
   "cell_type": "code",
   "execution_count": 2,
   "metadata": {},
   "outputs": [
    {
     "data": {
      "application/vnd.jupyter.widget-view+json": {
       "model_id": "c6149e04347340d38f15f3bdc87307cf",
       "version_major": 2,
       "version_minor": 0
      },
      "text/plain": [
       "IntSlider(value=0)"
      ]
     },
     "metadata": {},
     "output_type": "display_data"
    }
   ],
   "source": [
    "w = widgets.IntSlider()\n",
    "display(w)"
   ]
  },
  {
   "cell_type": "code",
   "execution_count": 3,
   "metadata": {},
   "outputs": [
    {
     "data": {
      "application/vnd.jupyter.widget-view+json": {
       "model_id": "211bf695fc084007927f667f3277316a",
       "version_major": 2,
       "version_minor": 0
      },
      "text/plain": [
       "interactive(children=(IntSlider(value=10, description='x', max=30, min=-10), Output()), _dom_classes=('widget-…"
      ]
     },
     "metadata": {},
     "output_type": "display_data"
    }
   ],
   "source": [
    "def f(x):\n",
    "    return x**2\n",
    "\n",
    "v=interact(f, x=10)"
   ]
  },
  {
   "cell_type": "code",
   "execution_count": 4,
   "metadata": {},
   "outputs": [
    {
     "data": {
      "application/vnd.jupyter.widget-view+json": {
       "model_id": "fb7c841943404a129b80eda998d6d94f",
       "version_major": 2,
       "version_minor": 0
      },
      "text/plain": [
       "interactive(children=(Text(value='', description='x'), Output()), _dom_classes=('widget-interact',))"
      ]
     },
     "metadata": {},
     "output_type": "display_data"
    }
   ],
   "source": [
    "def concat(x):\n",
    "    return x + \"!!!\"\n",
    "\n",
    "x=interact(concat,x=\"\")"
   ]
  },
  {
   "cell_type": "code",
   "execution_count": 5,
   "metadata": {},
   "outputs": [
    {
     "data": {
      "application/vnd.jupyter.widget-view+json": {
       "model_id": "80b5b669b43643c5a9f4203c7cc9bc1c",
       "version_major": 2,
       "version_minor": 0
      },
      "text/plain": [
       "interactive(children=(Checkbox(value=True, description='x'), Output()), _dom_classes=('widget-interact',))"
      ]
     },
     "metadata": {},
     "output_type": "display_data"
    }
   ],
   "source": [
    "def inquiry(x):\n",
    "    if x: \n",
    "        return \"Yes\"\n",
    "    else:\n",
    "        return \"No\"\n",
    "    \n",
    "w=interact(inquiry,x=True)"
   ]
  },
  {
   "cell_type": "code",
   "execution_count": 6,
   "metadata": {},
   "outputs": [
    {
     "data": {
      "application/vnd.jupyter.widget-view+json": {
       "model_id": "102ed2a5948f48eda371e952292e68f9",
       "version_major": 2,
       "version_minor": 0
      },
      "text/plain": [
       "interactive(children=(Checkbox(value=True, description='a'), FloatSlider(value=10.0, description='b', max=30.0…"
      ]
     },
     "metadata": {},
     "output_type": "display_data"
    }
   ],
   "source": [
    "def r(a,b,c):\n",
    "    if a:\n",
    "        return b+c\n",
    "    else:\n",
    "        return b-c\n",
    "t=interact(r,a=True,b=10.0,c=10.0)"
   ]
  },
  {
   "cell_type": "code",
   "execution_count": 7,
   "metadata": {},
   "outputs": [
    {
     "data": {
      "application/vnd.jupyter.widget-view+json": {
       "model_id": "5f8e82a14bb04d9b9bc8a412a921ca88",
       "version_major": 2,
       "version_minor": 0
      },
      "text/plain": [
       "interactive(children=(Dropdown(description='x', options=('one', 'two', 'three'), value='one'), Output()), _dom…"
      ]
     },
     "metadata": {},
     "output_type": "display_data"
    }
   ],
   "source": [
    "def dropdown(x):\n",
    "    if x == \"one\":\n",
    "        return 1\n",
    "    elif x == \"two\":\n",
    "        return 2\n",
    "    else:\n",
    "        return 3\n",
    "j = interact(dropdown,x=[\"one\",\"two\",\"three\"])"
   ]
  },
  {
   "cell_type": "code",
   "execution_count": 8,
   "metadata": {},
   "outputs": [
    {
     "data": {
      "application/vnd.jupyter.widget-view+json": {
       "model_id": "2a59ea17c46741ad8df5ede641c03b19",
       "version_major": 2,
       "version_minor": 0
      },
      "text/plain": [
       "interactive(children=(Dropdown(description='x', options=('one', 'two', 'three'), value='one'), Output()), _dom…"
      ]
     },
     "metadata": {},
     "output_type": "display_data"
    }
   ],
   "source": [
    "jj = interactive(dropdown,x=[\"one\",\"two\",\"three\"])\n",
    "display(jj)"
   ]
  },
  {
   "cell_type": "code",
   "execution_count": 9,
   "metadata": {},
   "outputs": [
    {
     "data": {
      "application/vnd.jupyter.widget-view+json": {
       "model_id": "1a1b2fce4ad54da28eb1665f6d686c1d",
       "version_major": 2,
       "version_minor": 0
      },
      "text/plain": [
       "interactive(children=(FloatSlider(value=0.0, description='m', max=2.0, min=-2.0), FloatSlider(value=0.0, descr…"
      ]
     },
     "metadata": {},
     "output_type": "display_data"
    }
   ],
   "source": [
    "%matplotlib inline\n",
    "\n",
    "\n",
    "def f(m, b):\n",
    "    plt.figure(2)\n",
    "    x = np.linspace(-10, 10, num=1000)\n",
    "    plt.plot(x, m * x + b)\n",
    "    plt.ylim(-5, 5)\n",
    "    plt.show()\n",
    "\n",
    "interactive_plot = interactive(f, m=(-2.0, 2.0), b=(-3, 3, 0.5))\n",
    "output = interactive_plot.children[-1]\n",
    "output.layout.height = '350px'\n",
    "interactive_plot"
   ]
  },
  {
   "cell_type": "code",
   "execution_count": 10,
   "metadata": {},
   "outputs": [
    {
     "data": {
      "application/vnd.jupyter.widget-view+json": {
       "model_id": "482512f36440481f98702a9d52366545",
       "version_major": 2,
       "version_minor": 0
      },
      "text/plain": [
       "interactive(children=(IntSlider(value=15, description='n', max=30), Button(description='Run Interact', style=B…"
      ]
     },
     "metadata": {},
     "output_type": "display_data"
    }
   ],
   "source": [
    "def fib(n):\n",
    "    if n == 0 or n == 1:\n",
    "        return n\n",
    "    else:\n",
    "        return fib(n-1)+fib(n-2)\n",
    "\n",
    "k = interact_manual(fib,n=(0,30))\n"
   ]
  },
  {
   "cell_type": "code",
   "execution_count": 11,
   "metadata": {},
   "outputs": [
    {
     "data": {
      "application/vnd.jupyter.widget-view+json": {
       "model_id": "826c10f4a88846a8bc794cdae6d364e7",
       "version_major": 2,
       "version_minor": 0
      },
      "text/plain": [
       "interactive(children=(IntSlider(value=7, description='Fibonacci', max=20), Output()), _dom_classes=('widget-in…"
      ]
     },
     "metadata": {},
     "output_type": "display_data"
    }
   ],
   "source": [
    "myWidget = widgets.IntSlider(\n",
    "    value=7,\n",
    "    min=0,\n",
    "    max=20,\n",
    "    step=1,\n",
    "    description='Fibonacci',\n",
    "    disabled=False,\n",
    "    continuous_update=True,\n",
    "    orientation='horizontal',\n",
    "    readout=True,\n",
    "    readout_format='d'\n",
    ")\n",
    "\n",
    "ff = interact(fib,n=myWidget)\n",
    "\n"
   ]
  },
  {
   "cell_type": "code",
   "execution_count": 12,
   "metadata": {},
   "outputs": [
    {
     "data": {
      "application/vnd.jupyter.widget-view+json": {
       "model_id": "7fb99d35d2e442c1930d3c353980cdca",
       "version_major": 2,
       "version_minor": 0
      },
      "text/plain": [
       "interactive(children=(IntSlider(value=4, continuous_update=False, description='Layer size', max=8, min=2), Out…"
      ]
     },
     "metadata": {},
     "output_type": "display_data"
    }
   ],
   "source": [
    "def net(m):\n",
    "    G = nx.Graph()\n",
    "    # explicitly set positions\n",
    "    #v0 = {i:(i,0) for i in range(m)}\n",
    "    v0 = [(2*i,0) for i in range(m)]\n",
    "    v1 = [(i,1) for i in range(2*m)]\n",
    "    v = v0+v1\n",
    "    G.add_nodes_from([i for i in range(len(v))])\n",
    "    e = {(i,j) for i in range(m) for j in range(m,3*m)}\n",
    "    nx.draw_networkx_nodes(G, v, node_size=20, nodelist=[i for i in range(3*m)],node_color=\"blue\")\n",
    "    nx.draw_networkx_edges(G, v, e, alpha=1.0, width=1,edge_color=\"red\")\n",
    "    plt.figure(1)\n",
    "    plt.axis('off')\n",
    "    plt.show()\n",
    "    plt.figure(2)\n",
    "    x = np.linspace(-10, 10, num=1000)\n",
    "    plt.plot(x, m * x)\n",
    "    plt.ylim(-5, 5)\n",
    "    plt.show()\n",
    "    \n",
    "#def linear(m):\n",
    "#    plt.figure(2)\n",
    "#    x = np.linspace(-10, 10, num=1000)\n",
    "#    plt.plot(x, m * x)\n",
    "#    plt.ylim(-5, 5)\n",
    "#    plt.show()\n",
    "\n",
    "interactive_plot = interactive(f, m=(-2.0, 2.0), b=(-3, 3, 0.5))\n",
    "output = interactive_plot.children[-1]\n",
    "output.layout.height = '350px'\n",
    "interactive_plot\n",
    "    \n",
    "slider = widgets.IntSlider(\n",
    "    value=4,\n",
    "    min=2,\n",
    "    max=8,\n",
    "    step=1,\n",
    "    description='Layer size',\n",
    "    disabled=False,\n",
    "    continuous_update=False,\n",
    "    orientation='horizontal',\n",
    "    readout=True,\n",
    "    readout_format='d')\n",
    "interactive_path = interactive(net, m=slider)\n",
    "output = interactive_path.children[-1]\n",
    "output.layout.height = '400px'\n",
    "display(interactive_path)"
   ]
  },
  {
   "cell_type": "code",
   "execution_count": 14,
   "metadata": {},
   "outputs": [
    {
     "data": {
      "application/vnd.jupyter.widget-view+json": {
       "model_id": "e1c46ab4bae74e63ad9ea5411e6088dc",
       "version_major": 2,
       "version_minor": 0
      },
      "text/plain": [
       "FigureWidget({\n",
       "    'data': [{'line': {'width': 2},\n",
       "              'mode': 'lines',\n",
       "              'type': 'scatt…"
      ]
     },
     "metadata": {},
     "output_type": "display_data"
    }
   ],
   "source": [
    "f = go.FigureWidget()\n",
    "f.layout.hovermode = 'closest'\n",
    "f.layout.hoverdistance = -1 #ensures no \"gaps\" for selecting sparse data\n",
    "default_linewidth = 2\n",
    "highlighted_linewidth_delta = 4\n",
    "\n",
    "# just some traces with random data points  \n",
    "num_of_traces = 5\n",
    "random.seed = 42\n",
    "for i in range(num_of_traces):\n",
    "    y = [random.random() + i / 2 for _ in range(100)]\n",
    "    trace = go.Scatter(y=y, mode='lines', line={ 'width': default_linewidth })\n",
    "    f.add_trace(trace)\n",
    "\n",
    "# our custom event handler\n",
    "def update_trace(trace, points, selector):\n",
    "    # this list stores the points which were clicked on\n",
    "    # in all but one event they it be empty\n",
    "    if len(points.point_inds) > 0:\n",
    "        for i in range( len(f.data) ):\n",
    "            f.data[i]['line']['width'] = default_linewidth + highlighted_linewidth_delta * (i == points.trace_index)\n",
    "\n",
    "\n",
    "# we need to add the on_click event to each trace separately       \n",
    "for i in range( len(f.data) ):\n",
    "    f.data[i].on_click(update_trace)\n",
    "\n",
    "# let's show the figure \n",
    "f"
   ]
  },
  {
   "cell_type": "code",
   "execution_count": null,
   "metadata": {},
   "outputs": [],
   "source": []
  }
 ],
 "metadata": {
  "kernelspec": {
   "display_name": "Python 3",
   "language": "python",
   "name": "python3"
  },
  "language_info": {
   "codemirror_mode": {
    "name": "ipython",
    "version": 3
   },
   "file_extension": ".py",
   "mimetype": "text/x-python",
   "name": "python",
   "nbconvert_exporter": "python",
   "pygments_lexer": "ipython3",
   "version": "3.6.5"
  }
 },
 "nbformat": 4,
 "nbformat_minor": 2
}
